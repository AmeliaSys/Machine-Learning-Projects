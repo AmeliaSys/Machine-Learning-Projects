{
  "nbformat": 4,
  "nbformat_minor": 0,
  "metadata": {
    "colab": {
      "provenance": [],
      "collapsed_sections": [
        "wwX3oIMQkohv",
        "9cj0f4ZEi7nz",
        "5uqypNGBuUzk",
        "GUHp2We63SFz",
        "VN7-Xrzt3HX6",
        "UAQ8SJhvmPC4",
        "39QyWPkiuYNs",
        "TdqvRH4Quj5E",
        "QqrJEl3D1aB0",
        "OGaBg9hSjIpz",
        "KEkU1SaI3t9a",
        "WxPPHZC-PWtZ",
        "Ra2KdI6ptBRB",
        "_NYPod5Ls5ab",
        "ZqAHHQdgjLSy",
        "zyfVQ3_yEkxX",
        "cSZnaVObupqQ",
        "U9kcZW1NlXWx",
        "gJs_DYWrEOiB",
        "GA6E-N-6m7CY",
        "ZQ2hW2lM5er-",
        "wwHJAOR8m2Ln",
        "PtNzYu9Rlfo1",
        "EueS9FgvERUZ",
        "1KZL-U1Z1mP1",
        "anV2oql1iJPc",
        "-_ZW0pgMcvMB",
        "GigEcAI6n8xW",
        "ojIFYBlx25ad",
        "ygZosuDaoZjN",
        "P2iDHtmWavVB",
        "-uwAFCoz_nPE",
        "EcsXqCmqMffe",
        "ExOOa6oWGRyr",
        "gLASxPFJOvS8",
        "ptsbMJmiqkN0",
        "GZTIipvXxbqL",
        "ep4iYflmjEwo",
        "xNHMHpoOcVfu",
        "4l0Wy4rjx4zl",
        "GVBY2xbXyLvp",
        "1B9Q-3qG2UJk",
        "3qOmLfCgtrVw",
        "Srp-IUkX6Apw",
        "4_EXYSQ3amSz",
        "d4Q0KwWc7ME7",
        "pWjj9eQH5z2g",
        "jl9Q68WKwwKk",
        "yLX2ARVYL0w3",
        "C-FJ2jjY8x6m",
        "GWr_-_ZqxsLf",
        "1iHTGACY-W6M",
        "7rCKbGJk-AE4",
        "xunhAugP3Voh"
      ]
    },
    "kernelspec": {
      "name": "python3",
      "display_name": "Python 3"
    },
    "language_info": {
      "name": "python"
    }
  },
  "cells": [
    {
      "cell_type": "markdown",
      "source": [
        "Adv ML - Assignment #1\n",
        "\n",
        "Amelia Sayes\n",
        "\n",
        "ams2638"
      ],
      "metadata": {
        "id": "9Bn1iwePj5Hx"
      }
    },
    {
      "cell_type": "markdown",
      "source": [
        "## Importing data & initial setup"
      ],
      "metadata": {
        "id": "wwX3oIMQkohv"
      }
    },
    {
      "cell_type": "code",
      "source": [
        "import pandas as pd\n",
        "import numpy as np"
      ],
      "metadata": {
        "id": "gS2YyagNnBjI"
      },
      "execution_count": null,
      "outputs": []
    },
    {
      "cell_type": "code",
      "source": [
        "#install aimodelshare library\n",
        "! pip install aimodelshare --upgrade"
      ],
      "metadata": {
        "id": "g9He__bRkvqu"
      },
      "execution_count": null,
      "outputs": []
    },
    {
      "cell_type": "code",
      "source": [
        "#Get competition data from course folder and unzip\n",
        "# importing the zipfile module\n",
        "from zipfile import ZipFile\n",
        "  \n",
        "# loading the temp.zip and creating a zip object\n",
        "with ZipFile(\"world_happiness_competition_data.zip\", 'r') as zObject:\n",
        "  \n",
        "    # Extracting all the members of the zip \n",
        "    # into a specific location.\n",
        "    zObject.extractall()"
      ],
      "metadata": {
        "id": "dD2JT8KqlCSK"
      },
      "execution_count": null,
      "outputs": []
    },
    {
      "cell_type": "code",
      "source": [
        "# Load data\n",
        "X_train = pd.read_csv('world_happiness_competition_data/X_train.csv')\n",
        "X_test = pd.read_csv('world_happiness_competition_data/X_test.csv')\n",
        "y_train = pd.read_csv('world_happiness_competition_data/y_train.csv')\n",
        "y_train_labels = y_train.idxmax(axis=1)\n",
        "\n",
        "X_train.head()"
      ],
      "metadata": {
        "colab": {
          "base_uri": "https://localhost:8080/",
          "height": 372
        },
        "id": "8d52EhwdlF0h",
        "outputId": "f6b8e2c2-1325-47c8-a8d7-1fe33a174509"
      },
      "execution_count": null,
      "outputs": [
        {
          "output_type": "execute_result",
          "data": {
            "text/plain": [
              "  Country or region  GDP per capita  Social support  Healthy life expectancy  \\\n",
              "0              Peru           0.960           1.274                    0.854   \n",
              "1         Nicaragua           0.694           1.325                    0.835   \n",
              "2            Greece           1.181           1.156                    0.999   \n",
              "3             Qatar           1.684           1.313                    0.871   \n",
              "4        Uzbekistan           0.745           1.529                    0.756   \n",
              "\n",
              "   Freedom to make life choices  Generosity  Perceptions of corruption  \\\n",
              "0                         0.455       0.083                      0.027   \n",
              "1                         0.435       0.200                      0.127   \n",
              "2                         0.067       0.000                      0.034   \n",
              "3                         0.555       0.220                      0.167   \n",
              "4                         0.631       0.322                      0.240   \n",
              "\n",
              "         name    region                       sub-region  Terrorist_attacks  \n",
              "0        Peru  Americas  Latin America and the Caribbean          18.000000  \n",
              "1   Nicaragua  Americas  Latin America and the Caribbean         125.611111  \n",
              "2      Greece    Europe                  Southern Europe         112.000000  \n",
              "3       Qatar      Asia                     Western Asia          57.333333  \n",
              "4  Uzbekistan      Asia                     Central Asia         125.611111  "
            ],
            "text/html": [
              "\n",
              "  <div id=\"df-645cc4ae-2cf5-4f6f-aa48-c2c290c899dc\">\n",
              "    <div class=\"colab-df-container\">\n",
              "      <div>\n",
              "<style scoped>\n",
              "    .dataframe tbody tr th:only-of-type {\n",
              "        vertical-align: middle;\n",
              "    }\n",
              "\n",
              "    .dataframe tbody tr th {\n",
              "        vertical-align: top;\n",
              "    }\n",
              "\n",
              "    .dataframe thead th {\n",
              "        text-align: right;\n",
              "    }\n",
              "</style>\n",
              "<table border=\"1\" class=\"dataframe\">\n",
              "  <thead>\n",
              "    <tr style=\"text-align: right;\">\n",
              "      <th></th>\n",
              "      <th>Country or region</th>\n",
              "      <th>GDP per capita</th>\n",
              "      <th>Social support</th>\n",
              "      <th>Healthy life expectancy</th>\n",
              "      <th>Freedom to make life choices</th>\n",
              "      <th>Generosity</th>\n",
              "      <th>Perceptions of corruption</th>\n",
              "      <th>name</th>\n",
              "      <th>region</th>\n",
              "      <th>sub-region</th>\n",
              "      <th>Terrorist_attacks</th>\n",
              "    </tr>\n",
              "  </thead>\n",
              "  <tbody>\n",
              "    <tr>\n",
              "      <th>0</th>\n",
              "      <td>Peru</td>\n",
              "      <td>0.960</td>\n",
              "      <td>1.274</td>\n",
              "      <td>0.854</td>\n",
              "      <td>0.455</td>\n",
              "      <td>0.083</td>\n",
              "      <td>0.027</td>\n",
              "      <td>Peru</td>\n",
              "      <td>Americas</td>\n",
              "      <td>Latin America and the Caribbean</td>\n",
              "      <td>18.000000</td>\n",
              "    </tr>\n",
              "    <tr>\n",
              "      <th>1</th>\n",
              "      <td>Nicaragua</td>\n",
              "      <td>0.694</td>\n",
              "      <td>1.325</td>\n",
              "      <td>0.835</td>\n",
              "      <td>0.435</td>\n",
              "      <td>0.200</td>\n",
              "      <td>0.127</td>\n",
              "      <td>Nicaragua</td>\n",
              "      <td>Americas</td>\n",
              "      <td>Latin America and the Caribbean</td>\n",
              "      <td>125.611111</td>\n",
              "    </tr>\n",
              "    <tr>\n",
              "      <th>2</th>\n",
              "      <td>Greece</td>\n",
              "      <td>1.181</td>\n",
              "      <td>1.156</td>\n",
              "      <td>0.999</td>\n",
              "      <td>0.067</td>\n",
              "      <td>0.000</td>\n",
              "      <td>0.034</td>\n",
              "      <td>Greece</td>\n",
              "      <td>Europe</td>\n",
              "      <td>Southern Europe</td>\n",
              "      <td>112.000000</td>\n",
              "    </tr>\n",
              "    <tr>\n",
              "      <th>3</th>\n",
              "      <td>Qatar</td>\n",
              "      <td>1.684</td>\n",
              "      <td>1.313</td>\n",
              "      <td>0.871</td>\n",
              "      <td>0.555</td>\n",
              "      <td>0.220</td>\n",
              "      <td>0.167</td>\n",
              "      <td>Qatar</td>\n",
              "      <td>Asia</td>\n",
              "      <td>Western Asia</td>\n",
              "      <td>57.333333</td>\n",
              "    </tr>\n",
              "    <tr>\n",
              "      <th>4</th>\n",
              "      <td>Uzbekistan</td>\n",
              "      <td>0.745</td>\n",
              "      <td>1.529</td>\n",
              "      <td>0.756</td>\n",
              "      <td>0.631</td>\n",
              "      <td>0.322</td>\n",
              "      <td>0.240</td>\n",
              "      <td>Uzbekistan</td>\n",
              "      <td>Asia</td>\n",
              "      <td>Central Asia</td>\n",
              "      <td>125.611111</td>\n",
              "    </tr>\n",
              "  </tbody>\n",
              "</table>\n",
              "</div>\n",
              "      <button class=\"colab-df-convert\" onclick=\"convertToInteractive('df-645cc4ae-2cf5-4f6f-aa48-c2c290c899dc')\"\n",
              "              title=\"Convert this dataframe to an interactive table.\"\n",
              "              style=\"display:none;\">\n",
              "        \n",
              "  <svg xmlns=\"http://www.w3.org/2000/svg\" height=\"24px\"viewBox=\"0 0 24 24\"\n",
              "       width=\"24px\">\n",
              "    <path d=\"M0 0h24v24H0V0z\" fill=\"none\"/>\n",
              "    <path d=\"M18.56 5.44l.94 2.06.94-2.06 2.06-.94-2.06-.94-.94-2.06-.94 2.06-2.06.94zm-11 1L8.5 8.5l.94-2.06 2.06-.94-2.06-.94L8.5 2.5l-.94 2.06-2.06.94zm10 10l.94 2.06.94-2.06 2.06-.94-2.06-.94-.94-2.06-.94 2.06-2.06.94z\"/><path d=\"M17.41 7.96l-1.37-1.37c-.4-.4-.92-.59-1.43-.59-.52 0-1.04.2-1.43.59L10.3 9.45l-7.72 7.72c-.78.78-.78 2.05 0 2.83L4 21.41c.39.39.9.59 1.41.59.51 0 1.02-.2 1.41-.59l7.78-7.78 2.81-2.81c.8-.78.8-2.07 0-2.86zM5.41 20L4 18.59l7.72-7.72 1.47 1.35L5.41 20z\"/>\n",
              "  </svg>\n",
              "      </button>\n",
              "      \n",
              "  <style>\n",
              "    .colab-df-container {\n",
              "      display:flex;\n",
              "      flex-wrap:wrap;\n",
              "      gap: 12px;\n",
              "    }\n",
              "\n",
              "    .colab-df-convert {\n",
              "      background-color: #E8F0FE;\n",
              "      border: none;\n",
              "      border-radius: 50%;\n",
              "      cursor: pointer;\n",
              "      display: none;\n",
              "      fill: #1967D2;\n",
              "      height: 32px;\n",
              "      padding: 0 0 0 0;\n",
              "      width: 32px;\n",
              "    }\n",
              "\n",
              "    .colab-df-convert:hover {\n",
              "      background-color: #E2EBFA;\n",
              "      box-shadow: 0px 1px 2px rgba(60, 64, 67, 0.3), 0px 1px 3px 1px rgba(60, 64, 67, 0.15);\n",
              "      fill: #174EA6;\n",
              "    }\n",
              "\n",
              "    [theme=dark] .colab-df-convert {\n",
              "      background-color: #3B4455;\n",
              "      fill: #D2E3FC;\n",
              "    }\n",
              "\n",
              "    [theme=dark] .colab-df-convert:hover {\n",
              "      background-color: #434B5C;\n",
              "      box-shadow: 0px 1px 3px 1px rgba(0, 0, 0, 0.15);\n",
              "      filter: drop-shadow(0px 1px 2px rgba(0, 0, 0, 0.3));\n",
              "      fill: #FFFFFF;\n",
              "    }\n",
              "  </style>\n",
              "\n",
              "      <script>\n",
              "        const buttonEl =\n",
              "          document.querySelector('#df-645cc4ae-2cf5-4f6f-aa48-c2c290c899dc button.colab-df-convert');\n",
              "        buttonEl.style.display =\n",
              "          google.colab.kernel.accessAllowed ? 'block' : 'none';\n",
              "\n",
              "        async function convertToInteractive(key) {\n",
              "          const element = document.querySelector('#df-645cc4ae-2cf5-4f6f-aa48-c2c290c899dc');\n",
              "          const dataTable =\n",
              "            await google.colab.kernel.invokeFunction('convertToInteractive',\n",
              "                                                     [key], {});\n",
              "          if (!dataTable) return;\n",
              "\n",
              "          const docLinkHtml = 'Like what you see? Visit the ' +\n",
              "            '<a target=\"_blank\" href=https://colab.research.google.com/notebooks/data_table.ipynb>data table notebook</a>'\n",
              "            + ' to learn more about interactive tables.';\n",
              "          element.innerHTML = '';\n",
              "          dataTable['output_type'] = 'display_data';\n",
              "          await google.colab.output.renderOutput(dataTable, element);\n",
              "          const docLink = document.createElement('div');\n",
              "          docLink.innerHTML = docLinkHtml;\n",
              "          element.appendChild(docLink);\n",
              "        }\n",
              "      </script>\n",
              "    </div>\n",
              "  </div>\n",
              "  "
            ]
          },
          "metadata": {},
          "execution_count": 4
        }
      ]
    },
    {
      "cell_type": "code",
      "source": [
        "y_train.head()"
      ],
      "metadata": {
        "colab": {
          "base_uri": "https://localhost:8080/",
          "height": 206
        },
        "id": "y7CJUW3llv9M",
        "outputId": "82fa6651-b3d9-40aa-d4fd-57f8afa18146"
      },
      "execution_count": null,
      "outputs": [
        {
          "output_type": "execute_result",
          "data": {
            "text/plain": [
              "   Average  High  Low  Very High  Very Low\n",
              "0        1     0    0          0         0\n",
              "1        0     1    0          0         0\n",
              "2        1     0    0          0         0\n",
              "3        0     0    0          1         0\n",
              "4        0     1    0          0         0"
            ],
            "text/html": [
              "\n",
              "  <div id=\"df-79e96150-0d8c-4fe7-b37b-93a96923393c\">\n",
              "    <div class=\"colab-df-container\">\n",
              "      <div>\n",
              "<style scoped>\n",
              "    .dataframe tbody tr th:only-of-type {\n",
              "        vertical-align: middle;\n",
              "    }\n",
              "\n",
              "    .dataframe tbody tr th {\n",
              "        vertical-align: top;\n",
              "    }\n",
              "\n",
              "    .dataframe thead th {\n",
              "        text-align: right;\n",
              "    }\n",
              "</style>\n",
              "<table border=\"1\" class=\"dataframe\">\n",
              "  <thead>\n",
              "    <tr style=\"text-align: right;\">\n",
              "      <th></th>\n",
              "      <th>Average</th>\n",
              "      <th>High</th>\n",
              "      <th>Low</th>\n",
              "      <th>Very High</th>\n",
              "      <th>Very Low</th>\n",
              "    </tr>\n",
              "  </thead>\n",
              "  <tbody>\n",
              "    <tr>\n",
              "      <th>0</th>\n",
              "      <td>1</td>\n",
              "      <td>0</td>\n",
              "      <td>0</td>\n",
              "      <td>0</td>\n",
              "      <td>0</td>\n",
              "    </tr>\n",
              "    <tr>\n",
              "      <th>1</th>\n",
              "      <td>0</td>\n",
              "      <td>1</td>\n",
              "      <td>0</td>\n",
              "      <td>0</td>\n",
              "      <td>0</td>\n",
              "    </tr>\n",
              "    <tr>\n",
              "      <th>2</th>\n",
              "      <td>1</td>\n",
              "      <td>0</td>\n",
              "      <td>0</td>\n",
              "      <td>0</td>\n",
              "      <td>0</td>\n",
              "    </tr>\n",
              "    <tr>\n",
              "      <th>3</th>\n",
              "      <td>0</td>\n",
              "      <td>0</td>\n",
              "      <td>0</td>\n",
              "      <td>1</td>\n",
              "      <td>0</td>\n",
              "    </tr>\n",
              "    <tr>\n",
              "      <th>4</th>\n",
              "      <td>0</td>\n",
              "      <td>1</td>\n",
              "      <td>0</td>\n",
              "      <td>0</td>\n",
              "      <td>0</td>\n",
              "    </tr>\n",
              "  </tbody>\n",
              "</table>\n",
              "</div>\n",
              "      <button class=\"colab-df-convert\" onclick=\"convertToInteractive('df-79e96150-0d8c-4fe7-b37b-93a96923393c')\"\n",
              "              title=\"Convert this dataframe to an interactive table.\"\n",
              "              style=\"display:none;\">\n",
              "        \n",
              "  <svg xmlns=\"http://www.w3.org/2000/svg\" height=\"24px\"viewBox=\"0 0 24 24\"\n",
              "       width=\"24px\">\n",
              "    <path d=\"M0 0h24v24H0V0z\" fill=\"none\"/>\n",
              "    <path d=\"M18.56 5.44l.94 2.06.94-2.06 2.06-.94-2.06-.94-.94-2.06-.94 2.06-2.06.94zm-11 1L8.5 8.5l.94-2.06 2.06-.94-2.06-.94L8.5 2.5l-.94 2.06-2.06.94zm10 10l.94 2.06.94-2.06 2.06-.94-2.06-.94-.94-2.06-.94 2.06-2.06.94z\"/><path d=\"M17.41 7.96l-1.37-1.37c-.4-.4-.92-.59-1.43-.59-.52 0-1.04.2-1.43.59L10.3 9.45l-7.72 7.72c-.78.78-.78 2.05 0 2.83L4 21.41c.39.39.9.59 1.41.59.51 0 1.02-.2 1.41-.59l7.78-7.78 2.81-2.81c.8-.78.8-2.07 0-2.86zM5.41 20L4 18.59l7.72-7.72 1.47 1.35L5.41 20z\"/>\n",
              "  </svg>\n",
              "      </button>\n",
              "      \n",
              "  <style>\n",
              "    .colab-df-container {\n",
              "      display:flex;\n",
              "      flex-wrap:wrap;\n",
              "      gap: 12px;\n",
              "    }\n",
              "\n",
              "    .colab-df-convert {\n",
              "      background-color: #E8F0FE;\n",
              "      border: none;\n",
              "      border-radius: 50%;\n",
              "      cursor: pointer;\n",
              "      display: none;\n",
              "      fill: #1967D2;\n",
              "      height: 32px;\n",
              "      padding: 0 0 0 0;\n",
              "      width: 32px;\n",
              "    }\n",
              "\n",
              "    .colab-df-convert:hover {\n",
              "      background-color: #E2EBFA;\n",
              "      box-shadow: 0px 1px 2px rgba(60, 64, 67, 0.3), 0px 1px 3px 1px rgba(60, 64, 67, 0.15);\n",
              "      fill: #174EA6;\n",
              "    }\n",
              "\n",
              "    [theme=dark] .colab-df-convert {\n",
              "      background-color: #3B4455;\n",
              "      fill: #D2E3FC;\n",
              "    }\n",
              "\n",
              "    [theme=dark] .colab-df-convert:hover {\n",
              "      background-color: #434B5C;\n",
              "      box-shadow: 0px 1px 3px 1px rgba(0, 0, 0, 0.15);\n",
              "      filter: drop-shadow(0px 1px 2px rgba(0, 0, 0, 0.3));\n",
              "      fill: #FFFFFF;\n",
              "    }\n",
              "  </style>\n",
              "\n",
              "      <script>\n",
              "        const buttonEl =\n",
              "          document.querySelector('#df-79e96150-0d8c-4fe7-b37b-93a96923393c button.colab-df-convert');\n",
              "        buttonEl.style.display =\n",
              "          google.colab.kernel.accessAllowed ? 'block' : 'none';\n",
              "\n",
              "        async function convertToInteractive(key) {\n",
              "          const element = document.querySelector('#df-79e96150-0d8c-4fe7-b37b-93a96923393c');\n",
              "          const dataTable =\n",
              "            await google.colab.kernel.invokeFunction('convertToInteractive',\n",
              "                                                     [key], {});\n",
              "          if (!dataTable) return;\n",
              "\n",
              "          const docLinkHtml = 'Like what you see? Visit the ' +\n",
              "            '<a target=\"_blank\" href=https://colab.research.google.com/notebooks/data_table.ipynb>data table notebook</a>'\n",
              "            + ' to learn more about interactive tables.';\n",
              "          element.innerHTML = '';\n",
              "          dataTable['output_type'] = 'display_data';\n",
              "          await google.colab.output.renderOutput(dataTable, element);\n",
              "          const docLink = document.createElement('div');\n",
              "          docLink.innerHTML = docLinkHtml;\n",
              "          element.appendChild(docLink);\n",
              "        }\n",
              "      </script>\n",
              "    </div>\n",
              "  </div>\n",
              "  "
            ]
          },
          "metadata": {},
          "execution_count": 5
        }
      ]
    },
    {
      "cell_type": "markdown",
      "source": [
        "# 1. Explore bivariate results (Use visualizations!)\n",
        "\n",
        "Describe any relationships you see between particular features and the target variable\n",
        "\n"
      ],
      "metadata": {
        "id": "9cj0f4ZEi7nz"
      }
    },
    {
      "cell_type": "markdown",
      "source": [
        "###Data Setup, Standardization and Sorting"
      ],
      "metadata": {
        "id": "5uqypNGBuUzk"
      }
    },
    {
      "cell_type": "code",
      "source": [
        "#creating dataframe for plots, standardized  data type\n",
        "df = pd.concat([X_train, y_train_labels], axis = 1)\n",
        "df.rename(columns = {0 : \"Happiness\"}, inplace = True)\n",
        "df.head()"
      ],
      "metadata": {
        "colab": {
          "base_uri": "https://localhost:8080/"
        },
        "id": "IUvdlihvm6eA",
        "outputId": "a5d2d25a-9f65-4d8a-cee5-6d72b58be9ba"
      },
      "execution_count": null,
      "outputs": [
        {
          "output_type": "execute_result",
          "data": {
            "text/plain": [
              "  Country or region  GDP per capita  Social support  Healthy life expectancy  \\\n",
              "0              Peru           0.960           1.274                    0.854   \n",
              "1         Nicaragua           0.694           1.325                    0.835   \n",
              "2            Greece           1.181           1.156                    0.999   \n",
              "3             Qatar           1.684           1.313                    0.871   \n",
              "4        Uzbekistan           0.745           1.529                    0.756   \n",
              "\n",
              "   Freedom to make life choices  Generosity  Perceptions of corruption  \\\n",
              "0                         0.455       0.083                      0.027   \n",
              "1                         0.435       0.200                      0.127   \n",
              "2                         0.067       0.000                      0.034   \n",
              "3                         0.555       0.220                      0.167   \n",
              "4                         0.631       0.322                      0.240   \n",
              "\n",
              "         name    region                       sub-region  Terrorist_attacks  \\\n",
              "0        Peru  Americas  Latin America and the Caribbean          18.000000   \n",
              "1   Nicaragua  Americas  Latin America and the Caribbean         125.611111   \n",
              "2      Greece    Europe                  Southern Europe         112.000000   \n",
              "3       Qatar      Asia                     Western Asia          57.333333   \n",
              "4  Uzbekistan      Asia                     Central Asia         125.611111   \n",
              "\n",
              "   Happiness  \n",
              "0    Average  \n",
              "1       High  \n",
              "2    Average  \n",
              "3  Very High  \n",
              "4       High  "
            ],
            "text/html": [
              "\n",
              "  <div id=\"df-eb82dffa-cd39-4716-b1c3-7be712bc68a3\">\n",
              "    <div class=\"colab-df-container\">\n",
              "      <div>\n",
              "<style scoped>\n",
              "    .dataframe tbody tr th:only-of-type {\n",
              "        vertical-align: middle;\n",
              "    }\n",
              "\n",
              "    .dataframe tbody tr th {\n",
              "        vertical-align: top;\n",
              "    }\n",
              "\n",
              "    .dataframe thead th {\n",
              "        text-align: right;\n",
              "    }\n",
              "</style>\n",
              "<table border=\"1\" class=\"dataframe\">\n",
              "  <thead>\n",
              "    <tr style=\"text-align: right;\">\n",
              "      <th></th>\n",
              "      <th>Country or region</th>\n",
              "      <th>GDP per capita</th>\n",
              "      <th>Social support</th>\n",
              "      <th>Healthy life expectancy</th>\n",
              "      <th>Freedom to make life choices</th>\n",
              "      <th>Generosity</th>\n",
              "      <th>Perceptions of corruption</th>\n",
              "      <th>name</th>\n",
              "      <th>region</th>\n",
              "      <th>sub-region</th>\n",
              "      <th>Terrorist_attacks</th>\n",
              "      <th>Happiness</th>\n",
              "    </tr>\n",
              "  </thead>\n",
              "  <tbody>\n",
              "    <tr>\n",
              "      <th>0</th>\n",
              "      <td>Peru</td>\n",
              "      <td>0.960</td>\n",
              "      <td>1.274</td>\n",
              "      <td>0.854</td>\n",
              "      <td>0.455</td>\n",
              "      <td>0.083</td>\n",
              "      <td>0.027</td>\n",
              "      <td>Peru</td>\n",
              "      <td>Americas</td>\n",
              "      <td>Latin America and the Caribbean</td>\n",
              "      <td>18.000000</td>\n",
              "      <td>Average</td>\n",
              "    </tr>\n",
              "    <tr>\n",
              "      <th>1</th>\n",
              "      <td>Nicaragua</td>\n",
              "      <td>0.694</td>\n",
              "      <td>1.325</td>\n",
              "      <td>0.835</td>\n",
              "      <td>0.435</td>\n",
              "      <td>0.200</td>\n",
              "      <td>0.127</td>\n",
              "      <td>Nicaragua</td>\n",
              "      <td>Americas</td>\n",
              "      <td>Latin America and the Caribbean</td>\n",
              "      <td>125.611111</td>\n",
              "      <td>High</td>\n",
              "    </tr>\n",
              "    <tr>\n",
              "      <th>2</th>\n",
              "      <td>Greece</td>\n",
              "      <td>1.181</td>\n",
              "      <td>1.156</td>\n",
              "      <td>0.999</td>\n",
              "      <td>0.067</td>\n",
              "      <td>0.000</td>\n",
              "      <td>0.034</td>\n",
              "      <td>Greece</td>\n",
              "      <td>Europe</td>\n",
              "      <td>Southern Europe</td>\n",
              "      <td>112.000000</td>\n",
              "      <td>Average</td>\n",
              "    </tr>\n",
              "    <tr>\n",
              "      <th>3</th>\n",
              "      <td>Qatar</td>\n",
              "      <td>1.684</td>\n",
              "      <td>1.313</td>\n",
              "      <td>0.871</td>\n",
              "      <td>0.555</td>\n",
              "      <td>0.220</td>\n",
              "      <td>0.167</td>\n",
              "      <td>Qatar</td>\n",
              "      <td>Asia</td>\n",
              "      <td>Western Asia</td>\n",
              "      <td>57.333333</td>\n",
              "      <td>Very High</td>\n",
              "    </tr>\n",
              "    <tr>\n",
              "      <th>4</th>\n",
              "      <td>Uzbekistan</td>\n",
              "      <td>0.745</td>\n",
              "      <td>1.529</td>\n",
              "      <td>0.756</td>\n",
              "      <td>0.631</td>\n",
              "      <td>0.322</td>\n",
              "      <td>0.240</td>\n",
              "      <td>Uzbekistan</td>\n",
              "      <td>Asia</td>\n",
              "      <td>Central Asia</td>\n",
              "      <td>125.611111</td>\n",
              "      <td>High</td>\n",
              "    </tr>\n",
              "  </tbody>\n",
              "</table>\n",
              "</div>\n",
              "      <button class=\"colab-df-convert\" onclick=\"convertToInteractive('df-eb82dffa-cd39-4716-b1c3-7be712bc68a3')\"\n",
              "              title=\"Convert this dataframe to an interactive table.\"\n",
              "              style=\"display:none;\">\n",
              "        \n",
              "  <svg xmlns=\"http://www.w3.org/2000/svg\" height=\"24px\"viewBox=\"0 0 24 24\"\n",
              "       width=\"24px\">\n",
              "    <path d=\"M0 0h24v24H0V0z\" fill=\"none\"/>\n",
              "    <path d=\"M18.56 5.44l.94 2.06.94-2.06 2.06-.94-2.06-.94-.94-2.06-.94 2.06-2.06.94zm-11 1L8.5 8.5l.94-2.06 2.06-.94-2.06-.94L8.5 2.5l-.94 2.06-2.06.94zm10 10l.94 2.06.94-2.06 2.06-.94-2.06-.94-.94-2.06-.94 2.06-2.06.94z\"/><path d=\"M17.41 7.96l-1.37-1.37c-.4-.4-.92-.59-1.43-.59-.52 0-1.04.2-1.43.59L10.3 9.45l-7.72 7.72c-.78.78-.78 2.05 0 2.83L4 21.41c.39.39.9.59 1.41.59.51 0 1.02-.2 1.41-.59l7.78-7.78 2.81-2.81c.8-.78.8-2.07 0-2.86zM5.41 20L4 18.59l7.72-7.72 1.47 1.35L5.41 20z\"/>\n",
              "  </svg>\n",
              "      </button>\n",
              "      \n",
              "  <style>\n",
              "    .colab-df-container {\n",
              "      display:flex;\n",
              "      flex-wrap:wrap;\n",
              "      gap: 12px;\n",
              "    }\n",
              "\n",
              "    .colab-df-convert {\n",
              "      background-color: #E8F0FE;\n",
              "      border: none;\n",
              "      border-radius: 50%;\n",
              "      cursor: pointer;\n",
              "      display: none;\n",
              "      fill: #1967D2;\n",
              "      height: 32px;\n",
              "      padding: 0 0 0 0;\n",
              "      width: 32px;\n",
              "    }\n",
              "\n",
              "    .colab-df-convert:hover {\n",
              "      background-color: #E2EBFA;\n",
              "      box-shadow: 0px 1px 2px rgba(60, 64, 67, 0.3), 0px 1px 3px 1px rgba(60, 64, 67, 0.15);\n",
              "      fill: #174EA6;\n",
              "    }\n",
              "\n",
              "    [theme=dark] .colab-df-convert {\n",
              "      background-color: #3B4455;\n",
              "      fill: #D2E3FC;\n",
              "    }\n",
              "\n",
              "    [theme=dark] .colab-df-convert:hover {\n",
              "      background-color: #434B5C;\n",
              "      box-shadow: 0px 1px 3px 1px rgba(0, 0, 0, 0.15);\n",
              "      filter: drop-shadow(0px 1px 2px rgba(0, 0, 0, 0.3));\n",
              "      fill: #FFFFFF;\n",
              "    }\n",
              "  </style>\n",
              "\n",
              "      <script>\n",
              "        const buttonEl =\n",
              "          document.querySelector('#df-eb82dffa-cd39-4716-b1c3-7be712bc68a3 button.colab-df-convert');\n",
              "        buttonEl.style.display =\n",
              "          google.colab.kernel.accessAllowed ? 'block' : 'none';\n",
              "\n",
              "        async function convertToInteractive(key) {\n",
              "          const element = document.querySelector('#df-eb82dffa-cd39-4716-b1c3-7be712bc68a3');\n",
              "          const dataTable =\n",
              "            await google.colab.kernel.invokeFunction('convertToInteractive',\n",
              "                                                     [key], {});\n",
              "          if (!dataTable) return;\n",
              "\n",
              "          const docLinkHtml = 'Like what you see? Visit the ' +\n",
              "            '<a target=\"_blank\" href=https://colab.research.google.com/notebooks/data_table.ipynb>data table notebook</a>'\n",
              "            + ' to learn more about interactive tables.';\n",
              "          element.innerHTML = '';\n",
              "          dataTable['output_type'] = 'display_data';\n",
              "          await google.colab.output.renderOutput(dataTable, element);\n",
              "          const docLink = document.createElement('div');\n",
              "          docLink.innerHTML = docLinkHtml;\n",
              "          element.appendChild(docLink);\n",
              "        }\n",
              "      </script>\n",
              "    </div>\n",
              "  </div>\n",
              "  "
            ]
          },
          "metadata": {},
          "execution_count": 6
        }
      ]
    },
    {
      "cell_type": "code",
      "source": [
        "#sort dataframe by happiness level to standardize distribution\n",
        "\n",
        "#define the order\n",
        "order = [\"Very Low\", \"Low\", \"Average\", \"High\", \"Very High\"]\n",
        "\n",
        "#assign the order to the Happiness column and sort column\n",
        "df[\"Happiness\"] = pd.Categorical(df[\"Happiness\"], categories = order)\n",
        "df_sort = df.sort_values(by = \"Happiness\")\n",
        "\n",
        "#print sorted df to check\n",
        "df_sort"
      ],
      "metadata": {
        "colab": {
          "base_uri": "https://localhost:8080/"
        },
        "id": "Wa5R0SOPsbug",
        "outputId": "56f6213f-a86e-4217-d1c4-aee4670ae834"
      },
      "execution_count": null,
      "outputs": [
        {
          "output_type": "execute_result",
          "data": {
            "text/plain": [
              "   Country or region  GDP per capita  Social support  Healthy life expectancy  \\\n",
              "20          Zimbabwe           0.366           1.114                    0.433   \n",
              "46          Ethiopia           0.336           1.033                    0.532   \n",
              "51             Egypt           0.913           1.039                    0.644   \n",
              "53            Zambia           0.578           1.058                    0.426   \n",
              "27  Congo (Kinshasa)           0.094           1.125                    0.357   \n",
              "..               ...             ...             ...                      ...   \n",
              "34       New Zealand           1.303           1.557                    1.026   \n",
              "52            Sweden           1.387           1.487                    1.009   \n",
              "72           Denmark           1.383           1.573                    0.996   \n",
              "55            Norway           1.488           1.582                    1.028   \n",
              "43            Canada           1.365           1.505                    1.039   \n",
              "\n",
              "    Freedom to make life choices  Generosity  Perceptions of corruption  \\\n",
              "20                         0.361       0.151                      0.089   \n",
              "46                         0.344       0.209                      0.100   \n",
              "51                         0.241       0.076                      0.067   \n",
              "53                         0.431       0.247                      0.087   \n",
              "27                         0.269       0.212                      0.053   \n",
              "..                           ...         ...                        ...   \n",
              "34                         0.585       0.330                      0.380   \n",
              "52                         0.574       0.267                      0.373   \n",
              "72                         0.592       0.252                      0.410   \n",
              "55                         0.603       0.271                      0.341   \n",
              "43                         0.584       0.285                      0.308   \n",
              "\n",
              "                name    region                 sub-region  Terrorist_attacks  \\\n",
              "20          Zimbabwe    Africa         Sub-Saharan Africa           1.000000   \n",
              "46          Ethiopia    Africa         Sub-Saharan Africa          21.000000   \n",
              "51             Egypt    Africa            Northern Africa        1101.000000   \n",
              "53            Zambia    Africa         Sub-Saharan Africa        1419.095238   \n",
              "27  Congo (Kinshasa)    Africa         Sub-Saharan Africa        1419.095238   \n",
              "..               ...       ...                        ...                ...   \n",
              "34       New Zealand   Oceania  Australia and New Zealand          57.333333   \n",
              "52            Sweden    Europe            Northern Europe          12.000000   \n",
              "72           Denmark    Europe            Northern Europe           2.000000   \n",
              "55            Norway    Europe            Northern Europe           1.000000   \n",
              "43            Canada  Americas           Northern America           8.000000   \n",
              "\n",
              "    Happiness  \n",
              "20   Very Low  \n",
              "46   Very Low  \n",
              "51   Very Low  \n",
              "53   Very Low  \n",
              "27   Very Low  \n",
              "..        ...  \n",
              "34  Very High  \n",
              "52  Very High  \n",
              "72  Very High  \n",
              "55  Very High  \n",
              "43  Very High  \n",
              "\n",
              "[88 rows x 12 columns]"
            ],
            "text/html": [
              "\n",
              "  <div id=\"df-90ebdfb4-9e47-4574-ae7d-87a1b61fd02f\">\n",
              "    <div class=\"colab-df-container\">\n",
              "      <div>\n",
              "<style scoped>\n",
              "    .dataframe tbody tr th:only-of-type {\n",
              "        vertical-align: middle;\n",
              "    }\n",
              "\n",
              "    .dataframe tbody tr th {\n",
              "        vertical-align: top;\n",
              "    }\n",
              "\n",
              "    .dataframe thead th {\n",
              "        text-align: right;\n",
              "    }\n",
              "</style>\n",
              "<table border=\"1\" class=\"dataframe\">\n",
              "  <thead>\n",
              "    <tr style=\"text-align: right;\">\n",
              "      <th></th>\n",
              "      <th>Country or region</th>\n",
              "      <th>GDP per capita</th>\n",
              "      <th>Social support</th>\n",
              "      <th>Healthy life expectancy</th>\n",
              "      <th>Freedom to make life choices</th>\n",
              "      <th>Generosity</th>\n",
              "      <th>Perceptions of corruption</th>\n",
              "      <th>name</th>\n",
              "      <th>region</th>\n",
              "      <th>sub-region</th>\n",
              "      <th>Terrorist_attacks</th>\n",
              "      <th>Happiness</th>\n",
              "    </tr>\n",
              "  </thead>\n",
              "  <tbody>\n",
              "    <tr>\n",
              "      <th>20</th>\n",
              "      <td>Zimbabwe</td>\n",
              "      <td>0.366</td>\n",
              "      <td>1.114</td>\n",
              "      <td>0.433</td>\n",
              "      <td>0.361</td>\n",
              "      <td>0.151</td>\n",
              "      <td>0.089</td>\n",
              "      <td>Zimbabwe</td>\n",
              "      <td>Africa</td>\n",
              "      <td>Sub-Saharan Africa</td>\n",
              "      <td>1.000000</td>\n",
              "      <td>Very Low</td>\n",
              "    </tr>\n",
              "    <tr>\n",
              "      <th>46</th>\n",
              "      <td>Ethiopia</td>\n",
              "      <td>0.336</td>\n",
              "      <td>1.033</td>\n",
              "      <td>0.532</td>\n",
              "      <td>0.344</td>\n",
              "      <td>0.209</td>\n",
              "      <td>0.100</td>\n",
              "      <td>Ethiopia</td>\n",
              "      <td>Africa</td>\n",
              "      <td>Sub-Saharan Africa</td>\n",
              "      <td>21.000000</td>\n",
              "      <td>Very Low</td>\n",
              "    </tr>\n",
              "    <tr>\n",
              "      <th>51</th>\n",
              "      <td>Egypt</td>\n",
              "      <td>0.913</td>\n",
              "      <td>1.039</td>\n",
              "      <td>0.644</td>\n",
              "      <td>0.241</td>\n",
              "      <td>0.076</td>\n",
              "      <td>0.067</td>\n",
              "      <td>Egypt</td>\n",
              "      <td>Africa</td>\n",
              "      <td>Northern Africa</td>\n",
              "      <td>1101.000000</td>\n",
              "      <td>Very Low</td>\n",
              "    </tr>\n",
              "    <tr>\n",
              "      <th>53</th>\n",
              "      <td>Zambia</td>\n",
              "      <td>0.578</td>\n",
              "      <td>1.058</td>\n",
              "      <td>0.426</td>\n",
              "      <td>0.431</td>\n",
              "      <td>0.247</td>\n",
              "      <td>0.087</td>\n",
              "      <td>Zambia</td>\n",
              "      <td>Africa</td>\n",
              "      <td>Sub-Saharan Africa</td>\n",
              "      <td>1419.095238</td>\n",
              "      <td>Very Low</td>\n",
              "    </tr>\n",
              "    <tr>\n",
              "      <th>27</th>\n",
              "      <td>Congo (Kinshasa)</td>\n",
              "      <td>0.094</td>\n",
              "      <td>1.125</td>\n",
              "      <td>0.357</td>\n",
              "      <td>0.269</td>\n",
              "      <td>0.212</td>\n",
              "      <td>0.053</td>\n",
              "      <td>Congo (Kinshasa)</td>\n",
              "      <td>Africa</td>\n",
              "      <td>Sub-Saharan Africa</td>\n",
              "      <td>1419.095238</td>\n",
              "      <td>Very Low</td>\n",
              "    </tr>\n",
              "    <tr>\n",
              "      <th>...</th>\n",
              "      <td>...</td>\n",
              "      <td>...</td>\n",
              "      <td>...</td>\n",
              "      <td>...</td>\n",
              "      <td>...</td>\n",
              "      <td>...</td>\n",
              "      <td>...</td>\n",
              "      <td>...</td>\n",
              "      <td>...</td>\n",
              "      <td>...</td>\n",
              "      <td>...</td>\n",
              "      <td>...</td>\n",
              "    </tr>\n",
              "    <tr>\n",
              "      <th>34</th>\n",
              "      <td>New Zealand</td>\n",
              "      <td>1.303</td>\n",
              "      <td>1.557</td>\n",
              "      <td>1.026</td>\n",
              "      <td>0.585</td>\n",
              "      <td>0.330</td>\n",
              "      <td>0.380</td>\n",
              "      <td>New Zealand</td>\n",
              "      <td>Oceania</td>\n",
              "      <td>Australia and New Zealand</td>\n",
              "      <td>57.333333</td>\n",
              "      <td>Very High</td>\n",
              "    </tr>\n",
              "    <tr>\n",
              "      <th>52</th>\n",
              "      <td>Sweden</td>\n",
              "      <td>1.387</td>\n",
              "      <td>1.487</td>\n",
              "      <td>1.009</td>\n",
              "      <td>0.574</td>\n",
              "      <td>0.267</td>\n",
              "      <td>0.373</td>\n",
              "      <td>Sweden</td>\n",
              "      <td>Europe</td>\n",
              "      <td>Northern Europe</td>\n",
              "      <td>12.000000</td>\n",
              "      <td>Very High</td>\n",
              "    </tr>\n",
              "    <tr>\n",
              "      <th>72</th>\n",
              "      <td>Denmark</td>\n",
              "      <td>1.383</td>\n",
              "      <td>1.573</td>\n",
              "      <td>0.996</td>\n",
              "      <td>0.592</td>\n",
              "      <td>0.252</td>\n",
              "      <td>0.410</td>\n",
              "      <td>Denmark</td>\n",
              "      <td>Europe</td>\n",
              "      <td>Northern Europe</td>\n",
              "      <td>2.000000</td>\n",
              "      <td>Very High</td>\n",
              "    </tr>\n",
              "    <tr>\n",
              "      <th>55</th>\n",
              "      <td>Norway</td>\n",
              "      <td>1.488</td>\n",
              "      <td>1.582</td>\n",
              "      <td>1.028</td>\n",
              "      <td>0.603</td>\n",
              "      <td>0.271</td>\n",
              "      <td>0.341</td>\n",
              "      <td>Norway</td>\n",
              "      <td>Europe</td>\n",
              "      <td>Northern Europe</td>\n",
              "      <td>1.000000</td>\n",
              "      <td>Very High</td>\n",
              "    </tr>\n",
              "    <tr>\n",
              "      <th>43</th>\n",
              "      <td>Canada</td>\n",
              "      <td>1.365</td>\n",
              "      <td>1.505</td>\n",
              "      <td>1.039</td>\n",
              "      <td>0.584</td>\n",
              "      <td>0.285</td>\n",
              "      <td>0.308</td>\n",
              "      <td>Canada</td>\n",
              "      <td>Americas</td>\n",
              "      <td>Northern America</td>\n",
              "      <td>8.000000</td>\n",
              "      <td>Very High</td>\n",
              "    </tr>\n",
              "  </tbody>\n",
              "</table>\n",
              "<p>88 rows × 12 columns</p>\n",
              "</div>\n",
              "      <button class=\"colab-df-convert\" onclick=\"convertToInteractive('df-90ebdfb4-9e47-4574-ae7d-87a1b61fd02f')\"\n",
              "              title=\"Convert this dataframe to an interactive table.\"\n",
              "              style=\"display:none;\">\n",
              "        \n",
              "  <svg xmlns=\"http://www.w3.org/2000/svg\" height=\"24px\"viewBox=\"0 0 24 24\"\n",
              "       width=\"24px\">\n",
              "    <path d=\"M0 0h24v24H0V0z\" fill=\"none\"/>\n",
              "    <path d=\"M18.56 5.44l.94 2.06.94-2.06 2.06-.94-2.06-.94-.94-2.06-.94 2.06-2.06.94zm-11 1L8.5 8.5l.94-2.06 2.06-.94-2.06-.94L8.5 2.5l-.94 2.06-2.06.94zm10 10l.94 2.06.94-2.06 2.06-.94-2.06-.94-.94-2.06-.94 2.06-2.06.94z\"/><path d=\"M17.41 7.96l-1.37-1.37c-.4-.4-.92-.59-1.43-.59-.52 0-1.04.2-1.43.59L10.3 9.45l-7.72 7.72c-.78.78-.78 2.05 0 2.83L4 21.41c.39.39.9.59 1.41.59.51 0 1.02-.2 1.41-.59l7.78-7.78 2.81-2.81c.8-.78.8-2.07 0-2.86zM5.41 20L4 18.59l7.72-7.72 1.47 1.35L5.41 20z\"/>\n",
              "  </svg>\n",
              "      </button>\n",
              "      \n",
              "  <style>\n",
              "    .colab-df-container {\n",
              "      display:flex;\n",
              "      flex-wrap:wrap;\n",
              "      gap: 12px;\n",
              "    }\n",
              "\n",
              "    .colab-df-convert {\n",
              "      background-color: #E8F0FE;\n",
              "      border: none;\n",
              "      border-radius: 50%;\n",
              "      cursor: pointer;\n",
              "      display: none;\n",
              "      fill: #1967D2;\n",
              "      height: 32px;\n",
              "      padding: 0 0 0 0;\n",
              "      width: 32px;\n",
              "    }\n",
              "\n",
              "    .colab-df-convert:hover {\n",
              "      background-color: #E2EBFA;\n",
              "      box-shadow: 0px 1px 2px rgba(60, 64, 67, 0.3), 0px 1px 3px 1px rgba(60, 64, 67, 0.15);\n",
              "      fill: #174EA6;\n",
              "    }\n",
              "\n",
              "    [theme=dark] .colab-df-convert {\n",
              "      background-color: #3B4455;\n",
              "      fill: #D2E3FC;\n",
              "    }\n",
              "\n",
              "    [theme=dark] .colab-df-convert:hover {\n",
              "      background-color: #434B5C;\n",
              "      box-shadow: 0px 1px 3px 1px rgba(0, 0, 0, 0.15);\n",
              "      filter: drop-shadow(0px 1px 2px rgba(0, 0, 0, 0.3));\n",
              "      fill: #FFFFFF;\n",
              "    }\n",
              "  </style>\n",
              "\n",
              "      <script>\n",
              "        const buttonEl =\n",
              "          document.querySelector('#df-90ebdfb4-9e47-4574-ae7d-87a1b61fd02f button.colab-df-convert');\n",
              "        buttonEl.style.display =\n",
              "          google.colab.kernel.accessAllowed ? 'block' : 'none';\n",
              "\n",
              "        async function convertToInteractive(key) {\n",
              "          const element = document.querySelector('#df-90ebdfb4-9e47-4574-ae7d-87a1b61fd02f');\n",
              "          const dataTable =\n",
              "            await google.colab.kernel.invokeFunction('convertToInteractive',\n",
              "                                                     [key], {});\n",
              "          if (!dataTable) return;\n",
              "\n",
              "          const docLinkHtml = 'Like what you see? Visit the ' +\n",
              "            '<a target=\"_blank\" href=https://colab.research.google.com/notebooks/data_table.ipynb>data table notebook</a>'\n",
              "            + ' to learn more about interactive tables.';\n",
              "          element.innerHTML = '';\n",
              "          dataTable['output_type'] = 'display_data';\n",
              "          await google.colab.output.renderOutput(dataTable, element);\n",
              "          const docLink = document.createElement('div');\n",
              "          docLink.innerHTML = docLinkHtml;\n",
              "          element.appendChild(docLink);\n",
              "        }\n",
              "      </script>\n",
              "    </div>\n",
              "  </div>\n",
              "  "
            ]
          },
          "metadata": {},
          "execution_count": 7
        }
      ]
    },
    {
      "cell_type": "code",
      "source": [
        "df_sort.columns"
      ],
      "metadata": {
        "colab": {
          "base_uri": "https://localhost:8080/"
        },
        "id": "Z3Ok5UY_3UNz",
        "outputId": "0a16d7eb-5ee7-40b2-9cfc-1179a3dc2943"
      },
      "execution_count": null,
      "outputs": [
        {
          "output_type": "execute_result",
          "data": {
            "text/plain": [
              "Index(['Country or region', 'GDP per capita', 'Social support',\n",
              "       'Healthy life expectancy', 'Freedom to make life choices', 'Generosity',\n",
              "       'Perceptions of corruption', 'name', 'region', 'sub-region',\n",
              "       'Terrorist_attacks', 'Happiness'],\n",
              "      dtype='object')"
            ]
          },
          "metadata": {},
          "execution_count": 8
        }
      ]
    },
    {
      "cell_type": "markdown",
      "source": [
        "### Creating a function for graphs"
      ],
      "metadata": {
        "id": "GUHp2We63SFz"
      }
    },
    {
      "cell_type": "code",
      "source": [
        "#Function to automate graphs\n",
        "\n",
        "def plt_bar(x, y):\n",
        "  import matplotlib.pyplot as plt\n",
        "  plt.bar(x, y, data = df_sort)\n",
        "  plt.xlabel(x)\n",
        "  plt.ylabel(y)\n",
        "  plt.title(y)\n",
        "  plt.show()\n"
      ],
      "metadata": {
        "id": "tObE7BPuyp0O"
      },
      "execution_count": null,
      "outputs": []
    },
    {
      "cell_type": "markdown",
      "source": [
        "## Numeric Features Bivariate Visualizations"
      ],
      "metadata": {
        "id": "VN7-Xrzt3HX6"
      }
    },
    {
      "cell_type": "code",
      "source": [
        "#overall trends \n",
        "\n",
        "plt_bar(\"Happiness\", \"GDP per capita\")\n",
        "plt_bar(\"Happiness\", \"Social support\")\n",
        "plt_bar(\"Happiness\", \"Healthy life expectancy\")\n",
        "plt_bar(\"Happiness\", \"Freedom to make life choices\")\n",
        "plt_bar(\"Happiness\", \"Generosity\")\n",
        "plt_bar(\"Happiness\", \"Perceptions of corruption\")\n",
        "plt_bar(\"Happiness\", \"Terrorist_attacks\")"
      ],
      "metadata": {
        "colab": {
          "base_uri": "https://localhost:8080/"
        },
        "id": "pJaRzXyF2Kyk",
        "outputId": "28ac1b91-34a5-4e28-854b-34d0addf36b2"
      },
      "execution_count": null,
      "outputs": [
        {
          "output_type": "display_data",
          "data": {
            "text/plain": [
              "<Figure size 432x288 with 1 Axes>"
            ],
            "image/png": "[encoded data removed]"
          },
          "metadata": {
            "needs_background": "light"
          }
        },
        {
          "output_type": "display_data",
          "data": {
            "text/plain": [
              "<Figure size 432x288 with 1 Axes>"
            ],
            "image/png": "[encoded data removed]"
          },
          "metadata": {
            "needs_background": "light"
          }
        },
        {
          "output_type": "display_data",
          "data": {
            "text/plain": [
              "<Figure size 432x288 with 1 Axes>"
            ],
            "image/png": "[encoded data removed]"
          },
          "metadata": {
            "needs_background": "light"
          }
        },
        {
          "output_type": "display_data",
          "data": {
            "text/plain": [
              "<Figure size 432x288 with 1 Axes>"
            ],
            "image/png": "[encoded data removed]"
          },
          "metadata": {
            "needs_background": "light"
          }
        },
        {
          "output_type": "display_data",
          "data": {
            "text/plain": [
              "<Figure size 432x288 with 1 Axes>"
            ],
            "image/png": "[encoded data removed]"
          },
          "metadata": {
            "needs_background": "light"
          }
        },
        {
          "output_type": "display_data",
          "data": {
            "text/plain": [
              "<Figure size 432x288 with 1 Axes>"
            ],
            "image/png": "[encoded data removed]"
          },
          "metadata": {
            "needs_background": "light"
          }
        },
        {
          "output_type": "display_data",
          "data": {
            "text/plain": [
              "<Figure size 432x288 with 1 Axes>"
            ],
            "image/png": "[encoded data removed]"
          },
          "metadata": {
            "needs_background": "light"
          }
        }
      ]
    },
    {
      "cell_type": "markdown",
      "source": [
        "Overall, GDP per capita, social support and healthy life expectancy are the features with the strongest positive trends for happiness scores. Terrorist attacks are only a strong indicator for \"very low\" happiness. \n",
        "\n",
        "The remaining numerical features are less informative. Freedom to make life choices is relatiely similar across happiness levels, and there is no major coherent trend for generosity. Perceptions of corruption are high for both \"very low\", \"high\", and \"very high\" countries. \n"
      ],
      "metadata": {
        "id": "Qx11qC9hlNC6"
      }
    },
    {
      "cell_type": "markdown",
      "source": [
        "### More detailed explorations"
      ],
      "metadata": {
        "id": "UAQ8SJhvmPC4"
      }
    },
    {
      "cell_type": "markdown",
      "source": [
        "#### GDP per capita by happiness"
      ],
      "metadata": {
        "id": "39QyWPkiuYNs"
      }
    },
    {
      "cell_type": "code",
      "source": [
        "plt_bar(\"Happiness\", \"GDP per capita\")"
      ],
      "metadata": {
        "colab": {
          "base_uri": "https://localhost:8080/"
        },
        "id": "vgBgB9jCorCa",
        "outputId": "72e30b25-26da-401f-f50b-3b146dd50b15"
      },
      "execution_count": null,
      "outputs": [
        {
          "output_type": "display_data",
          "data": {
            "text/plain": [
              "<Figure size 432x288 with 1 Axes>"
            ],
            "image/png": "[encoded data removed]"
          },
          "metadata": {
            "needs_background": "light"
          }
        }
      ]
    },
    {
      "cell_type": "markdown",
      "source": [
        "Happiness increases as gdp per capita increases"
      ],
      "metadata": {
        "id": "zlkBDuV3uTmc"
      }
    },
    {
      "cell_type": "markdown",
      "source": [
        "#### Social Support by happiness"
      ],
      "metadata": {
        "id": "TdqvRH4Quj5E"
      }
    },
    {
      "cell_type": "code",
      "source": [
        "plt_bar(\"Happiness\", \"Social support\")"
      ],
      "metadata": {
        "colab": {
          "base_uri": "https://localhost:8080/"
        },
        "id": "YwpFk7Oauird",
        "outputId": "8cfe6f2c-c005-4126-9244-5bd7ac524482"
      },
      "execution_count": null,
      "outputs": [
        {
          "output_type": "display_data",
          "data": {
            "text/plain": [
              "<Figure size 432x288 with 1 Axes>"
            ],
            "image/png": "[encoded data removed]"
          },
          "metadata": {
            "needs_background": "light"
          }
        }
      ]
    },
    {
      "cell_type": "markdown",
      "source": [
        "There's also a positive relationship between social support levels and happiness rating but this has a weaker positive relationship compared to GDP p/c and happiness"
      ],
      "metadata": {
        "id": "oyc_FD3Nu568"
      }
    },
    {
      "cell_type": "markdown",
      "source": [
        "#### Healthy life expectancy by happiness"
      ],
      "metadata": {
        "id": "qSN9-bFcvK2C"
      }
    },
    {
      "cell_type": "code",
      "source": [
        "plt_bar(\"Happiness\", \"Healthy life expectancy\")"
      ],
      "metadata": {
        "colab": {
          "base_uri": "https://localhost:8080/"
        },
        "id": "wGyLCTv5vYXK",
        "outputId": "be1e0c26-fb84-4621-8366-45e1442821b5"
      },
      "execution_count": null,
      "outputs": [
        {
          "output_type": "display_data",
          "data": {
            "text/plain": [
              "<Figure size 432x288 with 1 Axes>"
            ],
            "image/png": "[encoded data removed]"
          },
          "metadata": {
            "needs_background": "light"
          }
        }
      ]
    },
    {
      "cell_type": "markdown",
      "source": [
        "From happiness levels \"very low\" to \"high\", as happiness rating increases as does health life expectancy. However, coutnries with \"very high\" happiness ratings actually have slightly lower healthy life expectancies than those with \"high\" hapiness ratings, at a similar level to countries with a \"average\" life expectancy. \n",
        "\n",
        "Overall the differences in healthy life expectancies between coutnries with \"average\", \"high\" or \"very high\" happiness levels are relatively small."
      ],
      "metadata": {
        "id": "rcW0KkyLvoXi"
      }
    },
    {
      "cell_type": "markdown",
      "source": [
        "#### Freedom to make life choices by happiness"
      ],
      "metadata": {
        "id": "ryzRbLdDwbXZ"
      }
    },
    {
      "cell_type": "code",
      "source": [
        "plt_bar(\"Happiness\", \"Freedom to make life choices\")"
      ],
      "metadata": {
        "colab": {
          "base_uri": "https://localhost:8080/"
        },
        "id": "cyazAAjqwZHp",
        "outputId": "601cbab8-0520-4441-fd7c-f57527dfdd6e"
      },
      "execution_count": null,
      "outputs": [
        {
          "output_type": "display_data",
          "data": {
            "text/plain": [
              "<Figure size 432x288 with 1 Axes>"
            ],
            "image/png": "[encoded data removed]"
          },
          "metadata": {
            "needs_background": "light"
          }
        }
      ]
    },
    {
      "cell_type": "markdown",
      "source": [
        "Freedom to make life choices are relatively similar across the happiness ratings"
      ],
      "metadata": {
        "id": "pA8hh1pGwq6B"
      }
    },
    {
      "cell_type": "markdown",
      "source": [
        "#### Generosity by happiness "
      ],
      "metadata": {
        "id": "jeQgRl5BxKaI"
      }
    },
    {
      "cell_type": "code",
      "source": [
        "plt_bar(\"Happiness\", \"Generosity\")"
      ],
      "metadata": {
        "colab": {
          "base_uri": "https://localhost:8080/"
        },
        "id": "AqNP6EflxJx4",
        "outputId": "b7cfab84-e19d-4c4a-f094-bbc2a54ae97f"
      },
      "execution_count": null,
      "outputs": [
        {
          "output_type": "display_data",
          "data": {
            "text/plain": [
              "<Figure size 432x288 with 1 Axes>"
            ],
            "image/png": "[encoded data removed]"
          },
          "metadata": {
            "needs_background": "light"
          }
        }
      ]
    },
    {
      "cell_type": "markdown",
      "source": [
        "Generosity levels are variable by happiness rating, with no overall trend. \n",
        "\n",
        "Coutnries with \"very low\" happiness have the highest generosity scores, followed by those with \"average\" happiness. \n",
        "\n",
        "Countries with \"low\", \"high\" and \"very high\" happiness ratings have rouhgly similar levels of generosity (around 0.4).\n"
      ],
      "metadata": {
        "id": "rEFffQ6Hxq2P"
      }
    },
    {
      "cell_type": "markdown",
      "source": [
        "#### Perceptions of corruption by happiness"
      ],
      "metadata": {
        "id": "M8JfNFYy1PEE"
      }
    },
    {
      "cell_type": "code",
      "source": [
        "plt_bar(\"Happiness\", \"Perceptions of corruption\")"
      ],
      "metadata": {
        "colab": {
          "base_uri": "https://localhost:8080/"
        },
        "id": "GcVm8n_31OP1",
        "outputId": "3acff910-61bc-43a8-8c10-e6ebbeffc434"
      },
      "execution_count": null,
      "outputs": [
        {
          "output_type": "display_data",
          "data": {
            "text/plain": [
              "<Figure size 432x288 with 1 Axes>"
            ],
            "image/png": "[encoded data removed]"
          },
          "metadata": {
            "needs_background": "light"
          }
        }
      ]
    },
    {
      "cell_type": "markdown",
      "source": [
        "Corruption is high in both very low happiness coutnries and \"high\" and \"very high\" happiness countries. "
      ],
      "metadata": {
        "id": "WsKdlqY91-fz"
      }
    },
    {
      "cell_type": "markdown",
      "source": [
        "#### Terrorist attacks by happiness"
      ],
      "metadata": {
        "id": "QqrJEl3D1aB0"
      }
    },
    {
      "cell_type": "code",
      "source": [
        "plt_bar(\"Happiness\", \"Terrorist_attacks\")"
      ],
      "metadata": {
        "colab": {
          "base_uri": "https://localhost:8080/"
        },
        "id": "Ws6BQoj_1dEN",
        "outputId": "c52374a5-0b7e-447f-a5cc-4fa2e3ec8ba3"
      },
      "execution_count": null,
      "outputs": [
        {
          "output_type": "display_data",
          "data": {
            "text/plain": [
              "<Figure size 432x288 with 1 Axes>"
            ],
            "image/png": "[encoded data removed]"
          },
          "metadata": {
            "needs_background": "light"
          }
        }
      ]
    },
    {
      "cell_type": "markdown",
      "source": [
        "Countries with very low happiness have significantly more terrorist attacks than coutnries with higher levels of happiness. \n",
        "\n",
        "Coutnries with average happiness have some terrorist attacks."
      ],
      "metadata": {
        "id": "hsQbZG0q1lg0"
      }
    },
    {
      "cell_type": "markdown",
      "source": [
        "# 2. Examine features that predict happiness categories using one or more models that allow for automatic feature selection\n",
        "\n",
        "Explain any meaningful findings"
      ],
      "metadata": {
        "id": "OGaBg9hSjIpz"
      }
    },
    {
      "cell_type": "markdown",
      "source": [
        "## Data preprocessing and scaling"
      ],
      "metadata": {
        "id": "KEkU1SaI3t9a"
      }
    },
    {
      "cell_type": "code",
      "source": [
        "from sklearn.preprocessing import StandardScaler, OneHotEncoder\n",
        "from sklearn.compose import ColumnTransformer, make_column_transformer\n",
        "from sklearn.pipeline import Pipeline\n",
        "from sklearn.impute import SimpleImputer\n",
        "from sklearn.preprocessing import StandardScaler, OneHotEncoder\n",
        "\n",
        "# We create the preprocessing pipelines for both numeric and categorical data.\n",
        "\n",
        "numeric_features = X_train.drop(['Country or region', 'name', 'region', 'sub-region'], axis=1)\n",
        "numeric_features=numeric_features.columns.tolist()\n",
        "\n",
        "numeric_transformer = Pipeline(steps=[\n",
        "    ('imputer', SimpleImputer(strategy='median')),\n",
        "    ('scaler', StandardScaler())])\n",
        "\n",
        "categorical_features = ['region', 'sub-region']\n",
        "\n",
        "#Replacing missing values with Modal value and then one hot encoding.\n",
        "categorical_transformer = Pipeline(steps=[\n",
        "    ('imputer', SimpleImputer(strategy='most_frequent')),\n",
        "    ('onehot', OneHotEncoder(handle_unknown='ignore'))])\n",
        "\n",
        "# final preprocessor object set up with ColumnTransformer\n",
        "preprocessor1 = ColumnTransformer(\n",
        "    transformers=[\n",
        "        ('num', numeric_transformer, numeric_features),\n",
        "        ('cat', categorical_transformer, categorical_features)])\n",
        "\n",
        "#Fit your preprocessor object\n",
        "preprocess=preprocessor1.fit(X_train) "
      ],
      "metadata": {
        "id": "6GOVDges3leb"
      },
      "execution_count": null,
      "outputs": []
    },
    {
      "cell_type": "code",
      "source": [
        "# Write function to transform data with preprocessor\n",
        "\n",
        "def preprocessor(data):\n",
        "    data.drop(['Country or region', 'name'], axis=1)\n",
        "    preprocessed_data=preprocess.transform(data)\n",
        "    return preprocessed_data"
      ],
      "metadata": {
        "id": "oWm55oPo4Wza"
      },
      "execution_count": null,
      "outputs": []
    },
    {
      "cell_type": "code",
      "source": [
        "# check shape of X data after preprocessing it using our new function\n",
        "preprocessor(X_train).shape"
      ],
      "metadata": {
        "colab": {
          "base_uri": "https://localhost:8080/"
        },
        "id": "warpbgX44Zkr",
        "outputId": "244a67bd-0263-4a81-af47-916acedb37bd"
      },
      "execution_count": null,
      "outputs": [
        {
          "output_type": "execute_result",
          "data": {
            "text/plain": [
              "(88, 26)"
            ]
          },
          "metadata": {},
          "execution_count": 11
        }
      ]
    },
    {
      "cell_type": "code",
      "source": [
        "import aimodelshare as ai\n",
        "ai.export_preprocessor(preprocessor,\"\") "
      ],
      "metadata": {
        "colab": {
          "base_uri": "https://localhost:8080/"
        },
        "id": "WqiDKVwJeruj",
        "outputId": "c132192a-0905-46f4-e06f-535067f910ef"
      },
      "execution_count": null,
      "outputs": [
        {
          "output_type": "stream",
          "name": "stdout",
          "text": [
            "Your preprocessor is now saved to 'preprocessor.zip'\n"
          ]
        }
      ]
    },
    {
      "cell_type": "markdown",
      "source": [
        "### Extract columns names"
      ],
      "metadata": {
        "id": "zTih-b2oDKsX"
      }
    },
    {
      "cell_type": "code",
      "source": [
        "numerical_feature_names = numeric_features\n",
        "print(numerical_feature_names)\n",
        "\n",
        "print()\n",
        "\n",
        "categorical_feature_names = preprocess.named_transformers_['cat'].named_steps['onehot'].get_feature_names()\n",
        "print(categorical_feature_names)"
      ],
      "metadata": {
        "colab": {
          "base_uri": "https://localhost:8080/"
        },
        "id": "19QhKVsM-abJ",
        "outputId": "7003b8b5-11ea-4552-95b4-b108a237c380"
      },
      "execution_count": null,
      "outputs": [
        {
          "output_type": "stream",
          "name": "stdout",
          "text": [
            "['GDP per capita', 'Social support', 'Healthy life expectancy', 'Freedom to make life choices', 'Generosity', 'Perceptions of corruption', 'Terrorist_attacks']\n",
            "\n",
            "['x0_Africa' 'x0_Americas' 'x0_Asia' 'x0_Europe' 'x0_Oceania'\n",
            " 'x1_Australia and New Zealand' 'x1_Central Asia' 'x1_Eastern Asia'\n",
            " 'x1_Eastern Europe' 'x1_Latin America and the Caribbean'\n",
            " 'x1_Northern Africa' 'x1_Northern America' 'x1_Northern Europe'\n",
            " 'x1_South-eastern Asia' 'x1_Southern Asia' 'x1_Southern Europe'\n",
            " 'x1_Sub-Saharan Africa' 'x1_Western Asia' 'x1_Western Europe']\n"
          ]
        }
      ]
    },
    {
      "cell_type": "code",
      "source": [
        "cat_feat_names = categorical_feature_names.tolist()\n",
        "print(cat_feat_names)"
      ],
      "metadata": {
        "colab": {
          "base_uri": "https://localhost:8080/"
        },
        "id": "__4SI_eIEbgm",
        "outputId": "bbef9da8-94c9-4526-d0f2-1bd53f97a549"
      },
      "execution_count": null,
      "outputs": [
        {
          "output_type": "stream",
          "name": "stdout",
          "text": [
            "['x0_Africa', 'x0_Americas', 'x0_Asia', 'x0_Europe', 'x0_Oceania', 'x1_Australia and New Zealand', 'x1_Central Asia', 'x1_Eastern Asia', 'x1_Eastern Europe', 'x1_Latin America and the Caribbean', 'x1_Northern Africa', 'x1_Northern America', 'x1_Northern Europe', 'x1_South-eastern Asia', 'x1_Southern Asia', 'x1_Southern Europe', 'x1_Sub-Saharan Africa', 'x1_Western Asia', 'x1_Western Europe']\n"
          ]
        }
      ]
    },
    {
      "cell_type": "code",
      "source": [
        "print(type(numerical_feature_names))\n",
        "print(type((categorical_feature_names)))\n",
        "print(type(cat_feat_names))"
      ],
      "metadata": {
        "colab": {
          "base_uri": "https://localhost:8080/"
        },
        "id": "vBtrtyGhEIUu",
        "outputId": "bff8f477-0289-4b27-dae2-736b231df9e6"
      },
      "execution_count": null,
      "outputs": [
        {
          "output_type": "stream",
          "name": "stdout",
          "text": [
            "<class 'list'>\n",
            "<class 'numpy.ndarray'>\n",
            "<class 'list'>\n"
          ]
        }
      ]
    },
    {
      "cell_type": "code",
      "source": [
        "column_names = numerical_feature_names + cat_feat_names\n",
        "print(column_names)\n",
        "\n",
        "print()\n",
        "\n",
        "col_names_array = np.array(column_names)\n",
        "print(col_names_array)"
      ],
      "metadata": {
        "colab": {
          "base_uri": "https://localhost:8080/"
        },
        "id": "BI2qdOWxDOUe",
        "outputId": "a1f8721e-6e4b-418d-84b5-5ee24fda7572"
      },
      "execution_count": null,
      "outputs": [
        {
          "output_type": "stream",
          "name": "stdout",
          "text": [
            "['GDP per capita', 'Social support', 'Healthy life expectancy', 'Freedom to make life choices', 'Generosity', 'Perceptions of corruption', 'Terrorist_attacks', 'x0_Africa', 'x0_Americas', 'x0_Asia', 'x0_Europe', 'x0_Oceania', 'x1_Australia and New Zealand', 'x1_Central Asia', 'x1_Eastern Asia', 'x1_Eastern Europe', 'x1_Latin America and the Caribbean', 'x1_Northern Africa', 'x1_Northern America', 'x1_Northern Europe', 'x1_South-eastern Asia', 'x1_Southern Asia', 'x1_Southern Europe', 'x1_Sub-Saharan Africa', 'x1_Western Asia', 'x1_Western Europe']\n",
            "\n",
            "['GDP per capita' 'Social support' 'Healthy life expectancy'\n",
            " 'Freedom to make life choices' 'Generosity' 'Perceptions of corruption'\n",
            " 'Terrorist_attacks' 'x0_Africa' 'x0_Americas' 'x0_Asia' 'x0_Europe'\n",
            " 'x0_Oceania' 'x1_Australia and New Zealand' 'x1_Central Asia'\n",
            " 'x1_Eastern Asia' 'x1_Eastern Europe'\n",
            " 'x1_Latin America and the Caribbean' 'x1_Northern Africa'\n",
            " 'x1_Northern America' 'x1_Northern Europe' 'x1_South-eastern Asia'\n",
            " 'x1_Southern Asia' 'x1_Southern Europe' 'x1_Sub-Saharan Africa'\n",
            " 'x1_Western Asia' 'x1_Western Europe']\n"
          ]
        }
      ]
    },
    {
      "cell_type": "markdown",
      "source": [
        "## Random Forest Classifer SFM method\n"
      ],
      "metadata": {
        "id": "WxPPHZC-PWtZ"
      }
    },
    {
      "cell_type": "markdown",
      "source": [
        "### Extract Feature Importances"
      ],
      "metadata": {
        "id": "Ra2KdI6ptBRB"
      }
    },
    {
      "cell_type": "code",
      "source": [
        "from sklearn.ensemble import RandomForestClassifier\n",
        "\n",
        "#fit model\n",
        "rf = RandomForestClassifier(n_estimators = 50, random_state = 0)\n",
        "feat_select = rf.fit(preprocessor(X_train), y_train)\n",
        "\n",
        "#get feature importances\n",
        "feat_imp = feat_select.feature_importances_\n",
        "\n",
        "print(feat_imp)\n",
        "type(feat_imp)"
      ],
      "metadata": {
        "colab": {
          "base_uri": "https://localhost:8080/"
        },
        "id": "KuQGDjA2tEU5",
        "outputId": "aa2cab08-4b19-41c9-e565-c028077a4267"
      },
      "execution_count": null,
      "outputs": [
        {
          "output_type": "stream",
          "name": "stdout",
          "text": [
            "[1.91629612e-01 1.26669527e-01 1.37009855e-01 1.00973051e-01\n",
            " 9.56665895e-02 9.95768658e-02 9.02681755e-02 1.62905902e-02\n",
            " 1.00577058e-02 1.25919151e-02 8.32145592e-03 3.96182244e-06\n",
            " 1.20963285e-03 4.55008602e-03 3.32227227e-03 5.53925496e-03\n",
            " 1.18988323e-02 4.33766008e-03 7.34330457e-04 2.18888036e-03\n",
            " 7.36674370e-03 1.57122416e-02 1.04329835e-02 3.06484519e-02\n",
            " 6.46441240e-03 6.53491354e-03]\n"
          ]
        },
        {
          "output_type": "execute_result",
          "data": {
            "text/plain": [
              "numpy.ndarray"
            ]
          },
          "metadata": {},
          "execution_count": 16
        }
      ]
    },
    {
      "cell_type": "markdown",
      "source": [
        "### SelectFromModel Threshold Method"
      ],
      "metadata": {
        "id": "_NYPod5Ls5ab"
      }
    },
    {
      "cell_type": "code",
      "source": [
        "from sklearn.feature_selection import SelectFromModel\n",
        "from sklearn.ensemble import RandomForestClassifier\n",
        "\n",
        "#insantiate SFM with median as the threshold criteria\n",
        "select = SelectFromModel(rf, threshold = \"median\")\n",
        "\n",
        "#fit model on data\n",
        "select.fit(preprocessor(X_train), y_train_labels)\n",
        "\n",
        "#generate new X_train data\n",
        "X_train_new = select.transform(preprocessor(X_train))\n",
        "\n",
        "X_test_new = select.transform(preprocessor(X_test))"
      ],
      "metadata": {
        "id": "6E37ozeTTImE"
      },
      "execution_count": null,
      "outputs": []
    },
    {
      "cell_type": "code",
      "source": [
        "#return boolean mask for features selected\n",
        "rf_mask = select.get_support()\n",
        "print(rf_mask)"
      ],
      "metadata": {
        "colab": {
          "base_uri": "https://localhost:8080/"
        },
        "id": "MRF6IGxVUDsA",
        "outputId": "6deb86b7-27c2-479c-d634-c6f03f3b560b"
      },
      "execution_count": null,
      "outputs": [
        {
          "output_type": "stream",
          "name": "stdout",
          "text": [
            "[ True  True  True  True  True  True  True  True False  True False False\n",
            " False False False False  True False False False False  True  True  True\n",
            " False False]\n"
          ]
        }
      ]
    },
    {
      "cell_type": "markdown",
      "source": [
        "### Comparing importances"
      ],
      "metadata": {
        "id": "FoKEPO-ztzCd"
      }
    },
    {
      "cell_type": "code",
      "source": [
        "#check type of data and shapes for compatibility\n",
        "print(type(rf_mask))\n",
        "print(type(feat_imp))\n",
        "print(type(col_names_array))\n",
        "print(col_names_array.shape)\n",
        "print(rf_mask.shape)\n",
        "print(feat_imp.shape)"
      ],
      "metadata": {
        "colab": {
          "base_uri": "https://localhost:8080/"
        },
        "id": "-yRAp55eIoKQ",
        "outputId": "bb6a01a2-a9d0-485c-b292-e40decd0faef"
      },
      "execution_count": null,
      "outputs": [
        {
          "output_type": "stream",
          "name": "stdout",
          "text": [
            "<class 'numpy.ndarray'>\n",
            "<class 'numpy.ndarray'>\n",
            "<class 'numpy.ndarray'>\n",
            "(26,)\n",
            "(26,)\n",
            "(26,)\n"
          ]
        }
      ]
    },
    {
      "cell_type": "code",
      "source": [
        "#creat dfs\n",
        "imp_df = pd.DataFrame(index = col_names_array, data = feat_imp, columns = [\"Feature Importance Score\"])\n",
        "bool_df = pd.DataFrame(index = col_names_array, data = rf_mask, columns = [\"Boolean Mask\"])\n",
        "feature_importances_rf = pd.concat([bool_df, imp_df], axis =1)\n",
        "print(feature_importances_rf)"
      ],
      "metadata": {
        "colab": {
          "base_uri": "https://localhost:8080/"
        },
        "id": "us0F7VdBubN8",
        "outputId": "831e997c-24e8-458a-fd82-9b6506828aba"
      },
      "execution_count": null,
      "outputs": [
        {
          "output_type": "stream",
          "name": "stdout",
          "text": [
            "                                    Boolean Mask  Feature Importance Score\n",
            "GDP per capita                              True                  0.191630\n",
            "Social support                              True                  0.126670\n",
            "Healthy life expectancy                     True                  0.137010\n",
            "Freedom to make life choices                True                  0.100973\n",
            "Generosity                                  True                  0.095667\n",
            "Perceptions of corruption                   True                  0.099577\n",
            "Terrorist_attacks                           True                  0.090268\n",
            "x0_Africa                                   True                  0.016291\n",
            "x0_Americas                                False                  0.010058\n",
            "x0_Asia                                     True                  0.012592\n",
            "x0_Europe                                  False                  0.008321\n",
            "x0_Oceania                                 False                  0.000004\n",
            "x1_Australia and New Zealand               False                  0.001210\n",
            "x1_Central Asia                            False                  0.004550\n",
            "x1_Eastern Asia                            False                  0.003322\n",
            "x1_Eastern Europe                          False                  0.005539\n",
            "x1_Latin America and the Caribbean          True                  0.011899\n",
            "x1_Northern Africa                         False                  0.004338\n",
            "x1_Northern America                        False                  0.000734\n",
            "x1_Northern Europe                         False                  0.002189\n",
            "x1_South-eastern Asia                      False                  0.007367\n",
            "x1_Southern Asia                            True                  0.015712\n",
            "x1_Southern Europe                          True                  0.010433\n",
            "x1_Sub-Saharan Africa                       True                  0.030648\n",
            "x1_Western Asia                            False                  0.006464\n",
            "x1_Western Europe                          False                  0.006535\n"
          ]
        }
      ]
    },
    {
      "cell_type": "code",
      "source": [
        "#sorted feature importances df\n",
        "print(feature_importances_rf.sort_values(\"Feature Importance Score\", ascending = False))"
      ],
      "metadata": {
        "colab": {
          "base_uri": "https://localhost:8080/"
        },
        "id": "sJFJgfPsw0i0",
        "outputId": "bf844737-51e0-471b-b19c-c0fb08c4075b"
      },
      "execution_count": null,
      "outputs": [
        {
          "output_type": "stream",
          "name": "stdout",
          "text": [
            "                                    Boolean Mask  Feature Importance Score\n",
            "GDP per capita                              True                  0.191630\n",
            "Healthy life expectancy                     True                  0.137010\n",
            "Social support                              True                  0.126670\n",
            "Freedom to make life choices                True                  0.100973\n",
            "Perceptions of corruption                   True                  0.099577\n",
            "Generosity                                  True                  0.095667\n",
            "Terrorist_attacks                           True                  0.090268\n",
            "x1_Sub-Saharan Africa                       True                  0.030648\n",
            "x0_Africa                                   True                  0.016291\n",
            "x1_Southern Asia                            True                  0.015712\n",
            "x0_Asia                                     True                  0.012592\n",
            "x1_Latin America and the Caribbean          True                  0.011899\n",
            "x1_Southern Europe                          True                  0.010433\n",
            "x0_Americas                                False                  0.010058\n",
            "x0_Europe                                  False                  0.008321\n",
            "x1_South-eastern Asia                      False                  0.007367\n",
            "x1_Western Europe                          False                  0.006535\n",
            "x1_Western Asia                            False                  0.006464\n",
            "x1_Eastern Europe                          False                  0.005539\n",
            "x1_Central Asia                            False                  0.004550\n",
            "x1_Northern Africa                         False                  0.004338\n",
            "x1_Eastern Asia                            False                  0.003322\n",
            "x1_Northern Europe                         False                  0.002189\n",
            "x1_Australia and New Zealand               False                  0.001210\n",
            "x1_Northern America                        False                  0.000734\n",
            "x0_Oceania                                 False                  0.000004\n"
          ]
        }
      ]
    },
    {
      "cell_type": "markdown",
      "source": [
        "All of the numeric features have been selected using SFM with median as the selection criteria (i.e. they're above the median importance score). The importance scores of the numeric variables are between 0.09 to 0.19 - a large difference. The most important numeric features are GDP per capita, healthy life expectancy and social support - these are also the three numeric variables with the strongest visual trend when graphing the bivariate relationship. The numeric variables that have weaker importances are generosity and terrorist attacks. However, all numeric features rank above the categorical features. \n",
        "\n",
        "Only a few of the one hot encoded categorical variables have a feature importance above the median. Of the one hot encoded categorical variables, whether a country is in the Sub-Sharan Africa, Africa, Southern Asian, Asia, Latin America / Caribbean and Southern Europe, are above the median. Their feature importance ranges between 0.016 and 0.01, which are small values. Whether a country is in the other regions / continents does not provide meaningful value to whether a country has high or low happiness. In particular, Oceania, North America, Asutralia and NZ and Northern Europe are not important features and should be considered to be removed to optimize model performance."
      ],
      "metadata": {
        "id": "18uonCNzKm_1"
      }
    },
    {
      "cell_type": "markdown",
      "source": [
        "# 3. Experiment with different prediction models to try to predict World Happiness well (Fit and compare, at minimum, three models). \n",
        "submit three models to the model share leaderboard before you start communicating with your team."
      ],
      "metadata": {
        "id": "ZqAHHQdgjLSy"
      }
    },
    {
      "cell_type": "markdown",
      "source": [
        "### Checking category balance"
      ],
      "metadata": {
        "id": "cSZnaVObupqQ"
      }
    },
    {
      "cell_type": "code",
      "source": [
        "#check balance of data\n",
        "df_sort[\"Happiness\"].value_counts().sort_index()"
      ],
      "metadata": {
        "colab": {
          "base_uri": "https://localhost:8080/"
        },
        "id": "py92w2lmCfTB",
        "outputId": "ee20d254-a084-491d-d7a3-2af44d50f76d"
      },
      "execution_count": null,
      "outputs": [
        {
          "output_type": "execute_result",
          "data": {
            "text/plain": [
              "Very Low     18\n",
              "Low          16\n",
              "Average      17\n",
              "High         22\n",
              "Very High    15\n",
              "Name: Happiness, dtype: int64"
            ]
          },
          "metadata": {},
          "execution_count": 33
        }
      ]
    },
    {
      "cell_type": "markdown",
      "source": [
        "Relatively balanced. Will need to use stratified k fold for cross validation when testing. "
      ],
      "metadata": {
        "id": "4FSXeSG5CyHc"
      }
    },
    {
      "cell_type": "markdown",
      "source": [
        "## Model Type 1 - SVC"
      ],
      "metadata": {
        "id": "gJs_DYWrEOiB"
      }
    },
    {
      "cell_type": "markdown",
      "source": [
        "###Using Default Preprocessed Data - Model #702"
      ],
      "metadata": {
        "id": "_26pbjNP5WLP"
      }
    },
    {
      "cell_type": "code",
      "source": [
        "from sklearn.svm import SVC\n",
        "\n",
        "svc_grid2 = { 'C' : np.arange(1, 3, 0.1), 'gamma' : np.arange(0.01, 0.2, 0.02)}\n",
        "\n",
        "from sklearn.model_selection import StratifiedKFold\n",
        "skfold = StratifiedKFold(n_splits = 10, shuffle = True, random_state = 60)\n",
        "\n",
        "from sklearn.model_selection import GridSearchCV\n",
        "svc_model = GridSearchCV(SVC(kernel = 'rbf'), param_grid = svc_grid2, cv = skfold)\n",
        "svc_model.fit(preprocessor(X_train), y_train_labels)\n",
        "\n",
        "#metrics\n",
        "print(f'Best Parameters :  {svc_model.best_params_}')\n",
        "print(f'Best Stratified Kfold Score : {svc_model.best_score_.round(3)}')\n",
        "print(f'Tuned Train Set Score : {svc_model.score(preprocessor(X_train), y_train_labels).round(3)}')"
      ],
      "metadata": {
        "id": "qLnUQrtnENYv",
        "colab": {
          "base_uri": "https://localhost:8080/"
        },
        "outputId": "693256b0-c8fc-48da-ff1c-9ce8b111c0ae"
      },
      "execution_count": null,
      "outputs": [
        {
          "output_type": "stream",
          "name": "stdout",
          "text": [
            "Best Parameters :  {'C': 2.200000000000001, 'gamma': 0.10999999999999997}\n",
            "Best Stratified Kfold Score : 0.706\n",
            "Tuned Train Set Score : 0.886\n"
          ]
        }
      ]
    },
    {
      "cell_type": "markdown",
      "source": [
        "Kfold score is 0.706 and tuned train set score is 0.886 which is high but does not necessarily indicate overfitting.\n",
        "\n",
        "C value is relatively low at 2.2 and gamma is low at 0.1. This should limit overfitting and produce a more simple model."
      ],
      "metadata": {
        "id": "b2OKFtrb7qSm"
      }
    },
    {
      "cell_type": "markdown",
      "source": [
        "#### - Submit Model #702"
      ],
      "metadata": {
        "id": "GA6E-N-6m7CY"
      }
    },
    {
      "cell_type": "code",
      "source": [
        "#Save sklearn model to local ONNX file\n",
        "from aimodelshare.aimsonnx import model_to_onnx\n",
        "\n",
        "from skl2onnx.common.data_types import FloatTensorType\n",
        "\n",
        "feature_count=preprocessor(X_test).shape[1] #Get count of preprocessed features\n",
        "initial_type = [('float_input', FloatTensorType([None, feature_count]))]  # Insert correct number of preprocessed features\n",
        "\n",
        "onnx_model = model_to_onnx(svc_model, framework='sklearn',\n",
        "                          initial_types=initial_type,\n",
        "                          transfer_learning=False,\n",
        "                          deep_learning=False)\n",
        "\n",
        "with open(\"svc_model.onnx\", \"wb\") as f:\n",
        "    f.write(onnx_model.SerializeToString())\n",
        "\n",
        "#-- Generate predicted values \n",
        "prediction_labels = svc_model.predict(preprocessor(X_test))\n",
        "\n",
        "# Submit model to Competition Leaderboard\n",
        "mycompetition.submit_model(model_filepath = \"svc_model.onnx\",\n",
        "                                 preprocessor_filepath=\"preprocessor.zip\",\n",
        "                                 prediction_submission=prediction_labels, \n",
        "                                  custom_metadata = {'team' : '2'})"
      ],
      "metadata": {
        "colab": {
          "base_uri": "https://localhost:8080/"
        },
        "id": "Jc_Ocb9mlurt",
        "outputId": "fefdde67-ea85-4fad-99ce-e503719e70da"
      },
      "execution_count": null,
      "outputs": [
        {
          "output_type": "stream",
          "name": "stdout",
          "text": [
            "Insert search tags to help users find your model (optional): \n",
            "Provide any useful notes about your model (optional): \n",
            "\n",
            "Your model has been submitted as model version 702\n",
            "\n",
            "To submit code used to create this model or to view current leaderboard navigate to Model Playground: \n",
            "\n",
            " https://www.modelshare.org/detail/model:3164\n"
          ]
        }
      ]
    },
    {
      "cell_type": "markdown",
      "source": [
        "### Using SFM X_train data - Model #703"
      ],
      "metadata": {
        "id": "ZQ2hW2lM5er-"
      }
    },
    {
      "cell_type": "code",
      "source": [
        "### X_new data\n",
        "from sklearn.svm import SVC\n",
        "\n",
        "svc_grid3 = { 'C' : np.arange(0.1, 2, 0.1), 'gamma' : np.arange(0.01, 0.1, 0.01)}\n",
        "\n",
        "from sklearn.model_selection import StratifiedKFold\n",
        "skfold = StratifiedKFold(n_splits = 10, shuffle = True, random_state = 60)\n",
        "\n",
        "from sklearn.model_selection import GridSearchCV\n",
        "svc_model_xnew = GridSearchCV(SVC(kernel = 'rbf'), param_grid = svc_grid3, cv = skfold)\n",
        "svc_model_xnew.fit(X_train_new, y_train_labels)\n",
        "\n",
        "#metrics\n",
        "print(f'Best Parameters :  {svc_model_xnew.best_params_}')\n",
        "print(f'Best Stratified Kfold Score : {svc_model_xnew.best_score_.round(3)}')\n",
        "print(f'Tuned Train Set Score : {svc_model_xnew.score(X_train_new, y_train_labels).round(3)}')"
      ],
      "metadata": {
        "colab": {
          "base_uri": "https://localhost:8080/"
        },
        "id": "u57n7jk75Zo5",
        "outputId": "4d1310fc-e1d9-415d-c527-ce9aad47e354"
      },
      "execution_count": null,
      "outputs": [
        {
          "output_type": "stream",
          "name": "stdout",
          "text": [
            "Best Parameters :  {'C': 0.8, 'gamma': 0.06999999999999999}\n",
            "Best Stratified Kfold Score : 0.671\n",
            "Tuned Train Set Score : 0.784\n"
          ]
        }
      ]
    },
    {
      "cell_type": "markdown",
      "source": [
        "Using SFM X_train data has reduced the stratified kfold score as well as tuned train set score. This is a weaker model than 702 as it is not generalizing as well onto new data nor is it learning enough from the train set data. \n",
        "\n",
        "This model has a smaller C value and gamma than #702."
      ],
      "metadata": {
        "id": "AOjG6pgwXLDK"
      }
    },
    {
      "cell_type": "markdown",
      "source": [
        "#### Submit model - #703"
      ],
      "metadata": {
        "id": "wwHJAOR8m2Ln"
      }
    },
    {
      "cell_type": "code",
      "source": [
        "#Save sklearn model to local ONNX file\n",
        "from aimodelshare.aimsonnx import model_to_onnx\n",
        "\n",
        "from skl2onnx.common.data_types import FloatTensorType\n",
        "\n",
        "feature_count=X_test_new.shape[1] #Get count of preprocessed features\n",
        "initial_type = [('float_input', FloatTensorType([None, feature_count]))]  # Insert correct number of preprocessed features\n",
        "\n",
        "onnx_model = model_to_onnx(svc_model_xnew, framework='sklearn',\n",
        "                          initial_types=initial_type,\n",
        "                          transfer_learning=False,\n",
        "                          deep_learning=False)\n",
        "\n",
        "with open(\"svc_model_xnew\", \"wb\") as f:\n",
        "    f.write(onnx_model.SerializeToString())\n",
        "\n",
        "#-- Generate predicted values \n",
        "prediction_labels = svc_model_xnew.predict(X_test_new)\n",
        "\n",
        "# Submit model to Competition Leaderboard\n",
        "mycompetition.submit_model(model_filepath = \"svc_model_xnew\",\n",
        "                                 preprocessor_filepath=\"preprocessor.zip\",\n",
        "                                 prediction_submission=prediction_labels, \n",
        "                                  custom_metadata = {'team' : '2'})"
      ],
      "metadata": {
        "colab": {
          "base_uri": "https://localhost:8080/"
        },
        "id": "DOLGCZF0mELw",
        "outputId": "d97c98ba-722b-4145-e8ad-7251f8fd1f0d"
      },
      "execution_count": null,
      "outputs": [
        {
          "output_type": "stream",
          "name": "stdout",
          "text": [
            "Insert search tags to help users find your model (optional): \n",
            "Provide any useful notes about your model (optional): \n",
            "\n",
            "Your model has been submitted as model version 703\n",
            "\n",
            "To submit code used to create this model or to view current leaderboard navigate to Model Playground: \n",
            "\n",
            " https://www.modelshare.org/detail/model:3164\n"
          ]
        }
      ]
    },
    {
      "cell_type": "markdown",
      "source": [
        "### SVC Comparison"
      ],
      "metadata": {
        "id": "PtNzYu9Rlfo1"
      }
    },
    {
      "cell_type": "code",
      "source": [
        "data = mycompetition.get_leaderboard()\n",
        "compar = data[[\"version\", \"accuracy\", \"f1_score\", \"precision\", \"recall\", \"model_type\"]]\n",
        "print(compar[compar[\"version\"].isin([702, 703])])"
      ],
      "metadata": {
        "colab": {
          "base_uri": "https://localhost:8080/"
        },
        "id": "8if02SRjlkfX",
        "outputId": "38f32132-218a-4483-dc85-e1d9792ea053"
      },
      "execution_count": null,
      "outputs": [
        {
          "output_type": "stream",
          "name": "stdout",
          "text": [
            "     version  accuracy  f1_score  precision    recall model_type\n",
            "177      702  0.500000  0.499394   0.569487  0.512857        SVC\n",
            "423      703  0.441176  0.419076   0.515833  0.478571        SVC\n"
          ]
        }
      ]
    },
    {
      "cell_type": "markdown",
      "source": [
        "Model 702 has higher accuracy at 0.5 and higher f1 score at 0.499 - confirm that this is the better model at generalizing onto new data. Default x_train preprocessed data renders better results."
      ],
      "metadata": {
        "id": "4a4YXIxKnJ5M"
      }
    },
    {
      "cell_type": "markdown",
      "source": [
        "## Model 2 - Random Forest Classifier"
      ],
      "metadata": {
        "id": "EueS9FgvERUZ"
      }
    },
    {
      "cell_type": "markdown",
      "source": [
        "### Using default preprocesor data - Model #701"
      ],
      "metadata": {
        "id": "1KZL-U1Z1mP1"
      }
    },
    {
      "cell_type": "code",
      "source": [
        "from sklearn.ensemble import RandomForestClassifier\n",
        "\n",
        "rf = RandomForestClassifier(criterion = 'gini', bootstrap = True, random_state = 30).fit(preprocessor(X_train), y_train_labels)\n",
        "\n",
        "from sklearn.model_selection import StratifiedKFold\n",
        "skfold = StratifiedKFold(n_splits = 10, shuffle = True, random_state = 37)\n",
        "\n",
        "from sklearn.model_selection import GridSearchCV\n",
        "rf_grid = {'n_estimators' : np.arange(1, 11, 2), 'max_features' : np.arange(1, 11, 2), 'max_depth' : np.arange(1, 11, 2)}\n",
        "\n",
        "rf_model = (GridSearchCV(rf, param_grid = rf_grid, cv = skfold))\n",
        "rf_model.fit(preprocessor(X_train), y_train_labels)\n",
        "\n",
        "#metrics\n",
        "print(f'Best Parameters :  {rf_model.best_params_}')\n",
        "print(f'Best Mean Stratified KFold Score : {rf_model.best_score_.round(3)}')\n",
        "print(f'Tuned Train Set Score : {rf_model.score(preprocessor(X_train), y_train_labels).round(3)}')"
      ],
      "metadata": {
        "id": "7nckMEVCEqb0",
        "colab": {
          "base_uri": "https://localhost:8080/"
        },
        "outputId": "d632c813-6edb-4ea8-edae-dbe777c686be"
      },
      "execution_count": null,
      "outputs": [
        {
          "output_type": "stream",
          "name": "stdout",
          "text": [
            "Best Parameters :  {'max_depth': 7, 'max_features': 3, 'n_estimators': 7}\n",
            "Best Mean Stratified KFold Score : 0.658\n",
            "Tuned Train Set Score : 0.909\n"
          ]
        }
      ]
    },
    {
      "cell_type": "markdown",
      "source": [
        "Weaker kfold score relative to SVC method. High tuned train set score with evidence of overfitting. "
      ],
      "metadata": {
        "id": "eKw5Vzpx1rTn"
      }
    },
    {
      "cell_type": "markdown",
      "source": [
        "#### Submit to leaderboard - Model #701"
      ],
      "metadata": {
        "id": "anV2oql1iJPc"
      }
    },
    {
      "cell_type": "code",
      "source": [
        "#Save sklearn model to local ONNX file\n",
        "from aimodelshare.aimsonnx import model_to_onnx\n",
        "\n",
        "from skl2onnx.common.data_types import FloatTensorType\n",
        "\n",
        "feature_count=preprocessor(X_test).shape[1] #Get count of preprocessed features\n",
        "initial_type = [('float_input', FloatTensorType([None, feature_count]))]  # Insert correct number of preprocessed features\n",
        "\n",
        "onnx_model = model_to_onnx(rf_model, framework='sklearn',\n",
        "                          initial_types=initial_type,\n",
        "                          transfer_learning=False,\n",
        "                          deep_learning=False)\n",
        "\n",
        "with open(\"rf_model.onnx\", \"wb\") as f:\n",
        "    f.write(onnx_model.SerializeToString())\n",
        "\n",
        "#-- Generate predicted values \n",
        "prediction_labels = rf_model.predict(preprocessor(X_test))\n",
        "\n",
        "# Submit model to Competition Leaderboard\n",
        "mycompetition.submit_model(model_filepath = \"rf_model.onnx\",\n",
        "                                 preprocessor_filepath=\"preprocessor.zip\",\n",
        "                                 prediction_submission=prediction_labels, \n",
        "                                  custom_metadata = {'team' : '2'})"
      ],
      "metadata": {
        "colab": {
          "base_uri": "https://localhost:8080/"
        },
        "id": "fBg63fllf3S-",
        "outputId": "bca64c56-7851-43f0-a859-3a9bf5668ad5"
      },
      "execution_count": null,
      "outputs": [
        {
          "output_type": "stream",
          "name": "stdout",
          "text": [
            "Insert search tags to help users find your model (optional): \n",
            "Provide any useful notes about your model (optional): \n",
            "\n",
            "Your model has been submitted as model version 701\n",
            "\n",
            "To submit code used to create this model or to view current leaderboard navigate to Model Playground: \n",
            "\n",
            " https://www.modelshare.org/detail/model:3164\n"
          ]
        }
      ]
    },
    {
      "cell_type": "markdown",
      "source": [
        "### Further tuning - Model #708"
      ],
      "metadata": {
        "id": "-_ZW0pgMcvMB"
      }
    },
    {
      "cell_type": "code",
      "source": [
        "from sklearn.ensemble import RandomForestClassifier\n",
        "\n",
        "rf = RandomForestClassifier(criterion = 'gini', bootstrap = True).fit(preprocessor(X_train), y_train_labels)\n",
        "\n",
        "from sklearn.model_selection import StratifiedKFold\n",
        "skfold = StratifiedKFold(n_splits = 10, shuffle = True, random_state = 37)\n",
        "\n",
        "from sklearn.model_selection import GridSearchCV\n",
        "rf_grid1 = {'n_estimators' : np.arange(5, 85, 20), 'max_features' : np.arange(1, 11, 2), 'max_depth' : np.arange(1, 11, 2)}\n",
        "\n",
        "rf_model1 = (GridSearchCV(rf, param_grid = rf_grid, cv = skfold))\n",
        "rf_model1.fit(preprocessor(X_train), y_train_labels)\n",
        "\n",
        "#metrics\n",
        "print(f'Best Parameters :  {rf_model1.best_params_}')\n",
        "print(f'Best Mean Stratified KFold Score : {rf_model1.best_score_.round(3)}')\n",
        "print(f'Tuned Train Set Score : {rf_model1.score(preprocessor(X_train), y_train_labels).round(3)}')"
      ],
      "metadata": {
        "colab": {
          "base_uri": "https://localhost:8080/"
        },
        "id": "Fvs_Y2pVcpAZ",
        "outputId": "7c2779e4-378f-4b72-8b0f-2e2bb70b8b32"
      },
      "execution_count": null,
      "outputs": [
        {
          "output_type": "stream",
          "name": "stdout",
          "text": [
            "Best Parameters :  {'max_depth': 9, 'max_features': 3, 'n_estimators': 65}\n",
            "Best Mean Stratified KFold Score : 0.707\n",
            "Tuned Train Set Score : 1.0\n"
          ]
        }
      ]
    },
    {
      "cell_type": "markdown",
      "source": [
        "Further tuning to allow higher number of estimators has increased overfitting and kfold score. Unlikely that this model generalizes well onto new data, submit to leaderboard and compare f-1 score with pervious mode #701 to confirm. "
      ],
      "metadata": {
        "id": "9hcZELr4dOt_"
      }
    },
    {
      "cell_type": "markdown",
      "source": [
        "#### Submit to leaderboard #708"
      ],
      "metadata": {
        "id": "GigEcAI6n8xW"
      }
    },
    {
      "cell_type": "code",
      "source": [
        "#Save sklearn model to local ONNX file\n",
        "from aimodelshare.aimsonnx import model_to_onnx\n",
        "\n",
        "from skl2onnx.common.data_types import FloatTensorType\n",
        "\n",
        "feature_count=preprocessor(X_test).shape[1] #Get count of preprocessed features\n",
        "initial_type = [('float_input', FloatTensorType([None, feature_count]))]  # Insert correct number of preprocessed features\n",
        "\n",
        "onnx_model = model_to_onnx(rf_model1, framework='sklearn',\n",
        "                          initial_types=initial_type,\n",
        "                          transfer_learning=False,\n",
        "                          deep_learning=False)\n",
        "\n",
        "with open(\"rf_model1.onnx\", \"wb\") as f:\n",
        "    f.write(onnx_model.SerializeToString())\n",
        "\n",
        "#-- Generate predicted values \n",
        "prediction_labels = rf_model1.predict(preprocessor(X_test))\n",
        "\n",
        "# Submit model to Competition Leaderboard\n",
        "mycompetition.submit_model(model_filepath = \"rf_model1.onnx\",\n",
        "                                 preprocessor_filepath=\"preprocessor.zip\",\n",
        "                                 prediction_submission=prediction_labels, \n",
        "                                  custom_metadata = {'team' : '2'})"
      ],
      "metadata": {
        "colab": {
          "base_uri": "https://localhost:8080/"
        },
        "id": "54nxDGzcn8Rg",
        "outputId": "a57078d9-d9fc-4721-d778-0b5ea4d1cfd7"
      },
      "execution_count": null,
      "outputs": [
        {
          "output_type": "stream",
          "name": "stdout",
          "text": [
            "Insert search tags to help users find your model (optional): \n",
            "Provide any useful notes about your model (optional): \n",
            "\n",
            "Your model has been submitted as model version 708\n",
            "\n",
            "To submit code used to create this model or to view current leaderboard navigate to Model Playground: \n",
            "\n",
            " https://www.modelshare.org/detail/model:3164\n"
          ]
        }
      ]
    },
    {
      "cell_type": "markdown",
      "source": [
        "### Using Automatic Feature Selection X data - SFM from Random Forest - Model #709"
      ],
      "metadata": {
        "id": "ojIFYBlx25ad"
      }
    },
    {
      "cell_type": "code",
      "source": [
        "# New x data v1\n",
        "from sklearn.ensemble import RandomForestClassifier\n",
        "\n",
        "rf = RandomForestClassifier(criterion = 'gini', bootstrap = True).fit(X_train_new, y_train_labels)\n",
        "\n",
        "from sklearn.model_selection import StratifiedKFold\n",
        "skfold = StratifiedKFold(n_splits = 10, shuffle = True, random_state = 37)\n",
        "\n",
        "from sklearn.model_selection import GridSearchCV\n",
        "rf_grid_newx = {'n_estimators' : np.arange(1, 11, 2), 'max_features' : np.arange(1, 11, 2), 'min_samples_leaf' : np.arange(1, 10, 2)}\n",
        "\n",
        "rf_model_newx = (GridSearchCV(rf, param_grid = rf_grid_newx, cv = skfold))\n",
        "rf_model_newx.fit(X_train_new, y_train_labels)\n",
        "\n",
        "#metrics\n",
        "print(f'Best Parameters :  {rf_model_newx.best_params_}')\n",
        "print(f'Best Mean Stratified KFold Score : {rf_model_newx.best_score_.round(3)}')\n",
        "print(f'Tuned Train Set Score : {rf_model_newx.score(X_train_new, y_train_labels).round(3)}')"
      ],
      "metadata": {
        "colab": {
          "base_uri": "https://localhost:8080/"
        },
        "id": "TXNA84IH1olX",
        "outputId": "488b5c42-9808-4023-dc39-f92e8756a508"
      },
      "execution_count": null,
      "outputs": [
        {
          "output_type": "stream",
          "name": "stdout",
          "text": [
            "Best Parameters :  {'max_features': 3, 'min_samples_leaf': 1, 'n_estimators': 5}\n",
            "Best Mean Stratified KFold Score : 0.668\n",
            "Tuned Train Set Score : 0.92\n"
          ]
        }
      ]
    },
    {
      "cell_type": "markdown",
      "source": [
        "Vs. #701, using automatic feature selection data has minorly improved kfold score but also slightly increased train set score to 0.92. Overfitting even more than #701. Submit to leaderboard to assess trade off between improved kfold score and train set score overfitting."
      ],
      "metadata": {
        "id": "MT25mTlj3J9x"
      }
    },
    {
      "cell_type": "markdown",
      "source": [
        "#### Submit to leaderboard"
      ],
      "metadata": {
        "id": "ygZosuDaoZjN"
      }
    },
    {
      "cell_type": "code",
      "source": [
        "#Save sklearn model to local ONNX file\n",
        "from aimodelshare.aimsonnx import model_to_onnx\n",
        "\n",
        "from skl2onnx.common.data_types import FloatTensorType\n",
        "\n",
        "feature_count=X_test_new.shape[1] #Get count of preprocessed features\n",
        "initial_type = [('float_input', FloatTensorType([None, feature_count]))]  # Insert correct number of preprocessed features\n",
        "\n",
        "onnx_model = model_to_onnx(rf_model_newx, framework='sklearn',\n",
        "                          initial_types=initial_type,\n",
        "                          transfer_learning=False,\n",
        "                          deep_learning=False)\n",
        "\n",
        "with open(\"rf_model_newx.onnx\", \"wb\") as f:\n",
        "    f.write(onnx_model.SerializeToString())\n",
        "\n",
        "#-- Generate predicted values \n",
        "prediction_labels = rf_model_newx.predict(X_test_new)\n",
        "\n",
        "# Submit model to Competition Leaderboard\n",
        "mycompetition.submit_model(model_filepath = \"rf_model_newx.onnx\",\n",
        "                                 preprocessor_filepath=\"preprocessor.zip\",\n",
        "                                 prediction_submission=prediction_labels, \n",
        "                                  custom_metadata = {'team' : '2'})"
      ],
      "metadata": {
        "colab": {
          "base_uri": "https://localhost:8080/"
        },
        "id": "rTDWkNJToYcb",
        "outputId": "5118f658-3eff-48a8-d862-b3b6eaa87ac2"
      },
      "execution_count": null,
      "outputs": [
        {
          "output_type": "stream",
          "name": "stdout",
          "text": [
            "Insert search tags to help users find your model (optional): \n",
            "Provide any useful notes about your model (optional): \n",
            "\n",
            "Your model has been submitted as model version 709\n",
            "\n",
            "To submit code used to create this model or to view current leaderboard navigate to Model Playground: \n",
            "\n",
            " https://www.modelshare.org/detail/model:3164\n"
          ]
        }
      ]
    },
    {
      "cell_type": "markdown",
      "source": [
        "### X_train_new, further parameter tuning - Model #710"
      ],
      "metadata": {
        "id": "P2iDHtmWavVB"
      }
    },
    {
      "cell_type": "code",
      "source": [
        "#Further parameter tuning\n",
        "\n",
        "from sklearn.ensemble import RandomForestClassifier\n",
        "\n",
        "rf = RandomForestClassifier(criterion = 'gini', bootstrap = True).fit(X_train_new, y_train_labels)\n",
        "\n",
        "from sklearn.model_selection import StratifiedKFold\n",
        "skfold = StratifiedKFold(n_splits = 10, shuffle = True, random_state = 37)\n",
        "\n",
        "from sklearn.model_selection import GridSearchCV\n",
        "rf_grid_newx1 = {'n_estimators' : np.arange(8, 11, 1), 'max_features' : np.arange(1, 5, 1), 'min_samples_leaf' : np.arange(1, 5, 1)}\n",
        "\n",
        "rf_model_newx1 = (GridSearchCV(rf, param_grid = rf_grid_newx1, cv = skfold))\n",
        "rf_model_newx1.fit(X_train_new, y_train_labels)\n",
        "\n",
        "#metrics\n",
        "print(f'Best Parameters :  {rf_model_newx1.best_params_}')\n",
        "print(f'Best Mean Stratified KFold Score : {rf_model_newx1.best_score_.round(3)}')\n",
        "print(f'Tuned Train Set Score : {rf_model_newx1.score(X_train_new, y_train_labels).round(3)}')"
      ],
      "metadata": {
        "colab": {
          "base_uri": "https://localhost:8080/"
        },
        "id": "HuTEIXlk4OJV",
        "outputId": "fab52254-f168-4a15-a9d1-0691c0341700"
      },
      "execution_count": null,
      "outputs": [
        {
          "output_type": "stream",
          "name": "stdout",
          "text": [
            "Best Parameters :  {'max_features': 2, 'min_samples_leaf': 2, 'n_estimators': 10}\n",
            "Best Mean Stratified KFold Score : 0.682\n",
            "Tuned Train Set Score : 0.943\n"
          ]
        }
      ]
    },
    {
      "cell_type": "markdown",
      "source": [
        "Higher kfold score than model #701 and #709 but overfitting on the train set data. Will not generalize well on test data. Submit to leaderboard to confirm w/ f1 score."
      ],
      "metadata": {
        "id": "VIfL6peIpoiU"
      }
    },
    {
      "cell_type": "markdown",
      "source": [
        "#### Submit to leaderboard"
      ],
      "metadata": {
        "id": "OTGlgOuZo7I3"
      }
    },
    {
      "cell_type": "code",
      "source": [
        "#Save sklearn model to local ONNX file\n",
        "from aimodelshare.aimsonnx import model_to_onnx\n",
        "\n",
        "from skl2onnx.common.data_types import FloatTensorType\n",
        "\n",
        "feature_count=X_test_new.shape[1] #Get count of preprocessed features\n",
        "initial_type = [('float_input', FloatTensorType([None, feature_count]))]  # Insert correct number of preprocessed features\n",
        "\n",
        "onnx_model = model_to_onnx(rf_model_newx1, framework='sklearn',\n",
        "                          initial_types=initial_type,\n",
        "                          transfer_learning=False,\n",
        "                          deep_learning=False)\n",
        "\n",
        "with open(\"rf_model_newx1.onnx\", \"wb\") as f:\n",
        "    f.write(onnx_model.SerializeToString())\n",
        "\n",
        "#-- Generate predicted values \n",
        "prediction_labels = rf_model_newx1.predict(X_test_new)\n",
        "\n",
        "# Submit model to Competition Leaderboard\n",
        "mycompetition.submit_model(model_filepath = \"rf_model_newx1.onnx\",\n",
        "                                 preprocessor_filepath=\"preprocessor.zip\",\n",
        "                                 prediction_submission=prediction_labels, \n",
        "                                  custom_metadata = {'team' : '2'})"
      ],
      "metadata": {
        "colab": {
          "base_uri": "https://localhost:8080/"
        },
        "id": "PNK7iAbxoq9U",
        "outputId": "47f48822-00de-4735-db1c-c9c6717e2d50"
      },
      "execution_count": null,
      "outputs": [
        {
          "output_type": "stream",
          "name": "stdout",
          "text": [
            "Insert search tags to help users find your model (optional): \n",
            "Provide any useful notes about your model (optional): \n",
            "\n",
            "Your model has been submitted as model version 710\n",
            "\n",
            "To submit code used to create this model or to view current leaderboard navigate to Model Playground: \n",
            "\n",
            " https://www.modelshare.org/detail/model:3164\n"
          ]
        }
      ]
    },
    {
      "cell_type": "markdown",
      "source": [
        "### Compare RF performance on test set"
      ],
      "metadata": {
        "id": "NRZHxVvNlIMF"
      }
    },
    {
      "cell_type": "code",
      "source": [
        "data = mycompetition.get_leaderboard()\n",
        "compar = data[[\"version\", \"accuracy\", \"f1_score\", \"precision\", \"recall\", \"model_type\"]]\n",
        "print(compar[compar[\"version\"].isin([701, 708, 709, 710])])"
      ],
      "metadata": {
        "colab": {
          "base_uri": "https://localhost:8080/"
        },
        "id": "yjHiCMk2j8iT",
        "outputId": "5b75f989-19ca-42f0-d298-f4e1d1ded4f0"
      },
      "execution_count": null,
      "outputs": [
        {
          "output_type": "stream",
          "name": "stdout",
          "text": [
            "     version  accuracy  f1_score  precision    recall              model_type\n",
            "55       701  0.500000  0.495086   0.633333  0.509286  RandomForestClassifier\n",
            "200      710  0.470588  0.442344   0.642857  0.484286  RandomForestClassifier\n",
            "396      708  0.411765  0.394726   0.595238  0.415714  RandomForestClassifier\n",
            "543      709  0.352941  0.344706   0.577778  0.358571  RandomForestClassifier\n"
          ]
        }
      ]
    },
    {
      "cell_type": "markdown",
      "source": [
        "As suspected, of the random forest models, #701 is the strongest across, accuracy, and f-1 score. This is the model with default preprocessing standard and a lower number of estimators - overall a relatively simple model."
      ],
      "metadata": {
        "id": "zzzCGZMup0T8"
      }
    },
    {
      "cell_type": "markdown",
      "source": [
        "## Model 3 - Logistic Regression"
      ],
      "metadata": {
        "id": "-uwAFCoz_nPE"
      }
    },
    {
      "cell_type": "markdown",
      "source": [
        "### Default preprocessed X data - Model #780"
      ],
      "metadata": {
        "id": "EcsXqCmqMffe"
      }
    },
    {
      "cell_type": "code",
      "source": [
        "from sklearn.linear_model import LogisticRegression\n",
        "\n",
        "log_grid = {'C' : np.arange(0.1, 2, 0.1), 'penalty' : (\"none\", \"l1\", \"l2\", \"elasticnet\"), 'solver' : ('liblinear', 'lbfgs', 'saga')}\n",
        "\n",
        "from sklearn.model_selection import StratifiedKFold\n",
        "skfold = StratifiedKFold(n_splits = 10, shuffle = True, random_state = 60)\n",
        "\n",
        "from sklearn.model_selection import GridSearchCV\n",
        "log_model = GridSearchCV(LogisticRegression(max_iter = 10000), param_grid = log_grid, cv = skfold)\n",
        "log_model.fit(preprocessor(X_train), y_train_labels)"
      ],
      "metadata": {
        "id": "POLL2AzTKedv"
      },
      "execution_count": null,
      "outputs": []
    },
    {
      "cell_type": "code",
      "source": [
        "#metrics \n",
        "print(f'Best Parameters :  {log_model.best_params_}')\n",
        "print(f'Best Stratified Kfold Score : {log_model.best_score_.round(3)}')\n",
        "print(f'Tuned Train Set Score : {log_model.score(preprocessor(X_train), y_train_labels).round(3)}')"
      ],
      "metadata": {
        "colab": {
          "base_uri": "https://localhost:8080/"
        },
        "id": "AJ4SdhXxMSmH",
        "outputId": "f798f753-32ee-4571-e2d3-ec33585149c1"
      },
      "execution_count": null,
      "outputs": [
        {
          "output_type": "stream",
          "name": "stdout",
          "text": [
            "Best Parameters :  {'C': 0.5, 'penalty': 'l2', 'solver': 'lbfgs'}\n",
            "Best Stratified Kfold Score : 0.647\n",
            "Tuned Train Set Score : 0.807\n"
          ]
        }
      ]
    },
    {
      "cell_type": "markdown",
      "source": [
        "Best is l2 penalty with C value of 0.5 and lbfgs solver. Not overfitting, but kfold isn't very high meaning it isn't generalizing well."
      ],
      "metadata": {
        "id": "7aXkSZ-uL2g8"
      }
    },
    {
      "cell_type": "markdown",
      "source": [
        "#### Submit to leaderboard to assess - #780"
      ],
      "metadata": {
        "id": "ExOOa6oWGRyr"
      }
    },
    {
      "cell_type": "code",
      "source": [
        "#Save sklearn model to local ONNX file\n",
        "from aimodelshare.aimsonnx import model_to_onnx\n",
        "\n",
        "from skl2onnx.common.data_types import FloatTensorType\n",
        "\n",
        "feature_count=preprocessor(X_test).shape[1] #Get count of preprocessed features\n",
        "initial_type = [('float_input', FloatTensorType([None, feature_count]))]  # Insert correct number of preprocessed features\n",
        "\n",
        "onnx_model = model_to_onnx(log_model, framework='sklearn',\n",
        "                          initial_types=initial_type,\n",
        "                          transfer_learning=False,\n",
        "                          deep_learning=False)\n",
        "\n",
        "with open(\"log_model.onnx\", \"wb\") as f:\n",
        "    f.write(onnx_model.SerializeToString())\n",
        "\n",
        "#-- Generate predicted values \n",
        "prediction_labels = log_model.predict(preprocessor(X_test))\n",
        "\n",
        "# Submit model to Competition Leaderboard\n",
        "mycompetition.submit_model(model_filepath = \"log_model.onnx\",\n",
        "                                 preprocessor_filepath=\"preprocessor.zip\",\n",
        "                                 prediction_submission=prediction_labels, \n",
        "                                  custom_metadata = {'team' : '2'})"
      ],
      "metadata": {
        "colab": {
          "base_uri": "https://localhost:8080/"
        },
        "id": "YRcEBYuhGUc-",
        "outputId": "87d49da3-dd1e-4b04-a870-e4ebe3dc3973"
      },
      "execution_count": null,
      "outputs": [
        {
          "output_type": "stream",
          "name": "stdout",
          "text": [
            "Insert search tags to help users find your model (optional): \n",
            "Provide any useful notes about your model (optional): \n",
            "\n",
            "Your model has been submitted as model version 780\n",
            "\n",
            "To submit code used to create this model or to view current leaderboard navigate to Model Playground: \n",
            "\n",
            " https://www.modelshare.org/detail/model:3164\n"
          ]
        }
      ]
    },
    {
      "cell_type": "markdown",
      "source": [
        "### Using SFM X_train data - Model #720"
      ],
      "metadata": {
        "id": "gLASxPFJOvS8"
      }
    },
    {
      "cell_type": "code",
      "source": [
        "from sklearn.linear_model import LogisticRegression\n",
        "\n",
        "log_grid = {'C' : np.arange(0.1, 2, 0.1), 'penalty' : (\"none\", \"l1\", \"l2\", \"elasticnet\"), 'solver' : ('liblinear', 'lbfgs', 'saga')}\n",
        "\n",
        "from sklearn.model_selection import StratifiedKFold\n",
        "skfold = StratifiedKFold(n_splits = 10, shuffle = True, random_state = 60)\n",
        "\n",
        "from sklearn.model_selection import GridSearchCV\n",
        "log_model_newx = GridSearchCV(LogisticRegression(max_iter = 10000), param_grid = log_grid, cv = skfold)\n",
        "log_model_newx.fit(X_train_new, y_train_labels)"
      ],
      "metadata": {
        "id": "1gOjYjvGP_Nb"
      },
      "execution_count": null,
      "outputs": []
    },
    {
      "cell_type": "code",
      "source": [
        "#metrics\n",
        "print(f'Best Parameters :  {log_model_newx.best_params_}')\n",
        "print(f'Best Stratified Kfold Score : {log_model_newx.best_score_.round(3)}')\n",
        "print(f'Tuned Train Set Score : {log_model_newx.score(X_train_new, y_train_labels).round(3)}')"
      ],
      "metadata": {
        "colab": {
          "base_uri": "https://localhost:8080/"
        },
        "id": "CNvIwOxnQGWX",
        "outputId": "71079560-d0d8-476d-85bf-a4d258b153f5"
      },
      "execution_count": null,
      "outputs": [
        {
          "output_type": "stream",
          "name": "stdout",
          "text": [
            "Best Parameters :  {'C': 1.7000000000000002, 'penalty': 'l2', 'solver': 'liblinear'}\n",
            "Best Stratified Kfold Score : 0.658\n",
            "Tuned Train Set Score : 0.773\n"
          ]
        }
      ]
    },
    {
      "cell_type": "markdown",
      "source": [
        "Using the SFM X_train data has produced a higher kfold score but with a lower tuned train set score. This model is likely not learning enough from the train set data to generalize well onto unseen data.\n",
        "\n",
        "Vs. #780 this model is also l2 but uses liblinear solver instead of lbfgs. It has a higher C value."
      ],
      "metadata": {
        "id": "4p6dCIlaz68u"
      }
    },
    {
      "cell_type": "markdown",
      "source": [
        "#### Submit to leaderboard - #720"
      ],
      "metadata": {
        "id": "ptsbMJmiqkN0"
      }
    },
    {
      "cell_type": "code",
      "source": [
        "#Save sklearn model to local ONNX file\n",
        "from aimodelshare.aimsonnx import model_to_onnx\n",
        "\n",
        "from skl2onnx.common.data_types import FloatTensorType\n",
        "\n",
        "feature_count=X_test_new.shape[1] #Get count of preprocessed features\n",
        "initial_type = [('float_input', FloatTensorType([None, feature_count]))]  # Insert correct number of preprocessed features\n",
        "\n",
        "onnx_model = model_to_onnx(log_model_newx, framework='sklearn',\n",
        "                          initial_types=initial_type,\n",
        "                          transfer_learning=False,\n",
        "                          deep_learning=False)\n",
        "\n",
        "with open(\"log_model_newx.onnx\", \"wb\") as f:\n",
        "    f.write(onnx_model.SerializeToString())\n",
        "\n",
        "#-- Generate predicted values \n",
        "prediction_labels = log_model_newx.predict(X_test_new)\n",
        "\n",
        "# Submit model to Competition Leaderboard\n",
        "mycompetition.submit_model(model_filepath = \"log_model_newx.onnx\",\n",
        "                                 preprocessor_filepath=\"preprocessor.zip\",\n",
        "                                 prediction_submission=prediction_labels, \n",
        "                                  custom_metadata = {'team' : '2'})"
      ],
      "metadata": {
        "colab": {
          "base_uri": "https://localhost:8080/"
        },
        "id": "zPQExeNSqmrA",
        "outputId": "87bfc750-36fc-4744-f0e5-e554eb4f3738"
      },
      "execution_count": null,
      "outputs": [
        {
          "output_type": "stream",
          "name": "stdout",
          "text": [
            "Insert search tags to help users find your model (optional): \n",
            "Provide any useful notes about your model (optional): \n",
            "\n",
            "Your model has been submitted as model version 720\n",
            "\n",
            "To submit code used to create this model or to view current leaderboard navigate to Model Playground: \n",
            "\n",
            " https://www.modelshare.org/detail/model:3164\n"
          ]
        }
      ]
    },
    {
      "cell_type": "markdown",
      "source": [
        "### Compare logreg models on test set"
      ],
      "metadata": {
        "id": "r1dcaDWXGwKB"
      }
    },
    {
      "cell_type": "code",
      "source": [
        "data = mycompetition.get_leaderboard()\n",
        "compar = data[[\"version\", \"accuracy\", \"f1_score\", \"precision\", \"recall\", \"model_type\"]]\n",
        "print(compar[compar[\"version\"].isin([720, 780])])"
      ],
      "metadata": {
        "colab": {
          "base_uri": "https://localhost:8080/"
        },
        "id": "4n60m8ypGvXK",
        "outputId": "8b9b9df3-c234-40ce-c7fe-5e6304415f2d"
      },
      "execution_count": null,
      "outputs": [
        {
          "output_type": "stream",
          "name": "stdout",
          "text": [
            "     version  accuracy  f1_score  precision    recall          model_type\n",
            "435      780  0.441176  0.427312   0.523810  0.467143  LogisticRegression\n",
            "635      720  0.411765  0.386390   0.485281  0.427143  LogisticRegression\n"
          ]
        }
      ]
    },
    {
      "cell_type": "markdown",
      "source": [
        "Model #780 performs better across all metrics, has learnt more from the train set data and is able to generalize better."
      ],
      "metadata": {
        "id": "8PgXrgD4G28l"
      }
    },
    {
      "cell_type": "markdown",
      "source": [
        "## Compare Best Peformer for Each Model"
      ],
      "metadata": {
        "id": "GZTIipvXxbqL"
      }
    },
    {
      "cell_type": "code",
      "source": [
        "print(\"Random Forest Classifer Model w default X_train data - Model #701\")\n",
        "print(f'Best Parameters :  {rf_model.best_params_}')\n",
        "print(f'Best Mean Stratified KFold Score : {rf_model.best_score_.round(3)}')\n",
        "print(f'Tuned Train Set Score : {rf_model.score(preprocessor(X_train), y_train_labels).round(3)}')\n",
        "\n",
        "\n",
        "print()\n",
        "print()\n",
        "\n",
        "\n",
        "print(\"Logistic Regression w/ default X_train data - Model 780\")\n",
        "print(f'Best Parameters :  {log_model.best_params_}')\n",
        "print(f'Best Stratified Kfold Score : {log_model.best_score_.round(3)}')\n",
        "print(f'Tuned Train Set Score : {log_model.score(preprocessor(X_train), y_train_labels).round(3)}')\n",
        "\n",
        "print()\n",
        "print()\n",
        "\n",
        "print(\"SVC with default X_train data - Model #702\")\n",
        "print(f'Best Parameters :  {svc_model.best_params_}')\n",
        "print(f'Best Stratified Kfold Score : {svc_model.best_score_.round(3)}')\n",
        "print(f'Tuned Train Set Score : {svc_model.score(preprocessor(X_train), y_train_labels).round(3)}')"
      ],
      "metadata": {
        "colab": {
          "base_uri": "https://localhost:8080/"
        },
        "id": "C6W7WbLwxecw",
        "outputId": "f09b6681-7db9-4fdd-8f2d-455a514f4762"
      },
      "execution_count": null,
      "outputs": [
        {
          "output_type": "stream",
          "name": "stdout",
          "text": [
            "Random Forest Classifer Model w default X_train data - Model #701\n",
            "Best Parameters :  {'max_depth': 7, 'max_features': 3, 'n_estimators': 7}\n",
            "Best Mean Stratified KFold Score : 0.658\n",
            "Tuned Train Set Score : 0.909\n",
            "\n",
            "\n",
            "Logistic Regression w/ default X_train data - Model 780\n",
            "Best Parameters :  {'C': 0.5, 'penalty': 'l2', 'solver': 'lbfgs'}\n",
            "Best Stratified Kfold Score : 0.647\n",
            "Tuned Train Set Score : 0.807\n",
            "\n",
            "\n",
            "SVC with default X_train data - Model #702\n",
            "Best Parameters :  {'C': 2.200000000000001, 'gamma': 0.10999999999999997}\n",
            "Best Stratified Kfold Score : 0.706\n",
            "Tuned Train Set Score : 0.886\n"
          ]
        }
      ]
    },
    {
      "cell_type": "markdown",
      "source": [
        "From k-fold score anmd training sets SVC model #702 seems to be the strongest performing model. This model has a C value of 2.2 which is relatively low and a relatively low gamma value. The stratified kfold score is the highest of all the models, and the tuned train set score does not show evidence of too much overfitting.\n",
        "\n",
        "Random forest has the next highest kfold score at 0.658, but this is not much higher than logsitic regression. This is a simple mode, with only 7 estimators, a max_depth of 7 and max features of 3. The tuned train set score indicates the model might be overfitting which will reduce generalization. \n",
        "\n",
        "l2 Logsitic Regression is the weakest model. The stratified kfold score is only 0.637 and the train set score is relatively low at 0.807. It may not be learning enough from the train data."
      ],
      "metadata": {
        "id": "ZOfrTY8StHBf"
      }
    },
    {
      "cell_type": "code",
      "source": [
        "data = mycompetition.get_leaderboard()\n",
        "compar = data[[\"version\", \"accuracy\", \"f1_score\", \"precision\", \"recall\", \"model_type\"]]\n",
        "print(compar[compar[\"version\"].isin([701, 780, 702])])"
      ],
      "metadata": {
        "colab": {
          "base_uri": "https://localhost:8080/"
        },
        "id": "DKny1n3ZnhF3",
        "outputId": "88b7d168-3b88-456e-e63c-9e7b043c4ce5"
      },
      "execution_count": null,
      "outputs": [
        {
          "output_type": "stream",
          "name": "stdout",
          "text": [
            "     version  accuracy  f1_score  precision    recall              model_type\n",
            "59       701  0.500000  0.495086   0.633333  0.509286  RandomForestClassifier\n",
            "200      702  0.500000  0.499394   0.569487  0.512857                     SVC\n",
            "435      780  0.441176  0.427312   0.523810  0.467143      LogisticRegression\n"
          ]
        }
      ]
    },
    {
      "cell_type": "markdown",
      "source": [
        "Consistent with the deductions from k-fold cross validation, SVC is the strongest model, with the highest accuracyt and f-1 score. \n",
        "\n",
        "Interestingly, despite having a significantly lower kfold score, the random forest model is not far behind SVC in terms of performance on the test set. It has a similar accuracy and f-1 score to SVC. Precision is actually higher than SVC but it falls behind in recall.\n",
        "\n",
        "Logistic Regression is a weaker model by some margin, with a f1 score of only 0.44 and a f1 score of 0.43. "
      ],
      "metadata": {
        "id": "ROTdXXrbt2Pb"
      }
    },
    {
      "cell_type": "markdown",
      "source": [
        "# 4. Fit and submit up to three more models after learning from your team.\n",
        "Discuss which models you tried and which models performed better and point out relevant hyper-parameter values for successful models.\n"
      ],
      "metadata": {
        "id": "ep4iYflmjEwo"
      }
    },
    {
      "cell_type": "markdown",
      "source": [
        "After discussing with my team, I decided to use class_weights = balanced for SVC and Logistic Regression to see if this would improve my models. I also decided to try Gradient Boosting Classsifier instead of Random Forest Classisifer as some of my team members had better performance with this model."
      ],
      "metadata": {
        "id": "Hh1Y9ArNx-mA"
      }
    },
    {
      "cell_type": "markdown",
      "source": [
        "## Model 1 - Gradient Boosting Trees"
      ],
      "metadata": {
        "id": "xNHMHpoOcVfu"
      }
    },
    {
      "cell_type": "markdown",
      "source": [
        "### Default X_train data - #736"
      ],
      "metadata": {
        "id": "4l0Wy4rjx4zl"
      }
    },
    {
      "cell_type": "code",
      "source": [
        "from sklearn.ensemble import GradientBoostingClassifier\n",
        "\n",
        "gb_param = {\"n_estimators\" : np.arange(1, 100, 20), 'max_depth' : np.arange(1, 5, 1), 'learning_rate' : np.arange(0.1, 1, 0.1)}\n",
        "\n",
        "from sklearn.model_selection import StratifiedKFold\n",
        "skfold = StratifiedKFold(n_splits = 10, shuffle = True, random_state = 60)\n",
        "\n",
        "gb = GridSearchCV(GradientBoostingClassifier(random_state = 30), param_grid = gb_param, cv=skfold)\n",
        "gb.fit(preprocessor(X_train), y_train_labels)"
      ],
      "metadata": {
        "colab": {
          "base_uri": "https://localhost:8080/"
        },
        "id": "i3eDC4kKcce5",
        "outputId": "a44903cd-2a89-412e-9d4f-1b604599990f"
      },
      "execution_count": null,
      "outputs": [
        {
          "output_type": "execute_result",
          "data": {
            "text/plain": [
              "GridSearchCV(cv=StratifiedKFold(n_splits=10, random_state=60, shuffle=True),\n",
              "             estimator=GradientBoostingClassifier(random_state=30),\n",
              "             param_grid={'learning_rate': array([0.1, 0.2, 0.3, 0.4, 0.5, 0.6, 0.7, 0.8, 0.9]),\n",
              "                         'max_depth': array([1, 2, 3, 4]),\n",
              "                         'n_estimators': array([ 1, 21, 41, 61, 81])})"
            ]
          },
          "metadata": {},
          "execution_count": 95
        }
      ]
    },
    {
      "cell_type": "code",
      "source": [
        "#metrics\n",
        "print(f'Best Parameters :  {gb.best_params_}')\n",
        "print(f'Best Stratified Kfold Score : {gb.best_score_.round(3)}')\n",
        "print(f'Tuned Train Set Score : {gb.score(preprocessor(X_train), y_train_labels).round(3)}')"
      ],
      "metadata": {
        "colab": {
          "base_uri": "https://localhost:8080/"
        },
        "id": "eqm4SK31cmtV",
        "outputId": "0807abe9-3052-4fc0-e03f-47939a47cdab"
      },
      "execution_count": null,
      "outputs": [
        {
          "output_type": "stream",
          "name": "stdout",
          "text": [
            "Best Parameters :  {'learning_rate': 0.7000000000000001, 'max_depth': 4, 'n_estimators': 81}\n",
            "Best Stratified Kfold Score : 0.651\n",
            "Tuned Train Set Score : 1.0\n"
          ]
        }
      ]
    },
    {
      "cell_type": "markdown",
      "source": [
        "Overfitting on train data, with score 1.0\n",
        "Relatively low kfold score."
      ],
      "metadata": {
        "id": "qV1095stycwo"
      }
    },
    {
      "cell_type": "markdown",
      "source": [
        "#### Submit to leaderboard - Model #736\n",
        "\n"
      ],
      "metadata": {
        "id": "Arnxgum_udh3"
      }
    },
    {
      "cell_type": "code",
      "source": [
        "#Save sklearn model to local ONNX file\n",
        "from aimodelshare.aimsonnx import model_to_onnx\n",
        "\n",
        "from skl2onnx.common.data_types import FloatTensorType\n",
        "\n",
        "feature_count=preprocessor(X_test).shape[1] #Get count of preprocessed features\n",
        "initial_type = [('float_input', FloatTensorType([None, feature_count]))]  # Insert correct number of preprocessed features\n",
        "\n",
        "onnx_model = model_to_onnx(gb, framework='sklearn',\n",
        "                          initial_types=initial_type,\n",
        "                          transfer_learning=False,\n",
        "                          deep_learning=False)\n",
        "\n",
        "with open(\"gb.onnx\", \"wb\") as f:\n",
        "    f.write(onnx_model.SerializeToString())\n",
        "\n",
        "#-- Generate predicted values \n",
        "prediction_labels = gb.predict(preprocessor(X_test))\n",
        "\n",
        "# Submit model to Competition Leaderboard\n",
        "mycompetition.submit_model(model_filepath = \"gb.onnx\",\n",
        "                                 preprocessor_filepath=\"preprocessor.zip\",\n",
        "                                 prediction_submission=prediction_labels, \n",
        "                                  custom_metadata = {'team' : '2'})"
      ],
      "metadata": {
        "colab": {
          "base_uri": "https://localhost:8080/"
        },
        "id": "frhWMUzwuXyz",
        "outputId": "da9fe23f-5387-4cc7-f6f4-84044a277927"
      },
      "execution_count": null,
      "outputs": [
        {
          "output_type": "stream",
          "name": "stdout",
          "text": [
            "Insert search tags to help users find your model (optional): \n",
            "Provide any useful notes about your model (optional): \n",
            "\n",
            "Your model has been submitted as model version 736\n",
            "\n",
            "To submit code used to create this model or to view current leaderboard navigate to Model Playground: \n",
            "\n",
            " https://www.modelshare.org/detail/model:3164\n"
          ]
        }
      ]
    },
    {
      "cell_type": "markdown",
      "source": [
        "### Gradient Boosting Classifier w/ x-train_new data - model #760"
      ],
      "metadata": {
        "id": "GVBY2xbXyLvp"
      }
    },
    {
      "cell_type": "code",
      "source": [
        "from sklearn.ensemble import GradientBoostingClassifier\n",
        "\n",
        "gb_param = {\"n_estimators\" : np.arange(1, 100, 20), 'max_depth' : np.arange(1, 5, 1), 'learning_rate' : np.arange(0.1, 1, 0.1)}\n",
        "\n",
        "from sklearn.model_selection import StratifiedKFold\n",
        "skfold = StratifiedKFold(n_splits = 10, shuffle = True, random_state = 60)\n",
        "\n",
        "gb_newx = GridSearchCV(GradientBoostingClassifier(random_state = 30), param_grid = gb_param, cv=skfold)\n",
        "gb_newx.fit(X_train_new, y_train_labels)"
      ],
      "metadata": {
        "colab": {
          "base_uri": "https://localhost:8080/"
        },
        "id": "_fWq9VMwyLaf",
        "outputId": "a7fa6a4b-5a52-4451-af79-5f54478d5482"
      },
      "execution_count": null,
      "outputs": [
        {
          "output_type": "execute_result",
          "data": {
            "text/plain": [
              "GridSearchCV(cv=StratifiedKFold(n_splits=10, random_state=60, shuffle=True),\n",
              "             estimator=GradientBoostingClassifier(random_state=30),\n",
              "             param_grid={'learning_rate': array([0.1, 0.2, 0.3, 0.4, 0.5, 0.6, 0.7, 0.8, 0.9]),\n",
              "                         'max_depth': array([1, 2, 3, 4]),\n",
              "                         'n_estimators': array([ 1, 21, 41, 61, 81])})"
            ]
          },
          "metadata": {},
          "execution_count": 116
        }
      ]
    },
    {
      "cell_type": "code",
      "source": [
        "#metrics\n",
        "print(f'Best Parameters :  {gb_newx.best_params_}')\n",
        "print(f'Best Stratified Kfold Score : {gb_newx.best_score_.round(3)}')\n",
        "print(f'Tuned Train Set Score : {gb_newx.score(X_train_new, y_train_labels).round(3)}')"
      ],
      "metadata": {
        "colab": {
          "base_uri": "https://localhost:8080/"
        },
        "id": "NsDqya2yyP06",
        "outputId": "9602a49e-0e8c-457a-e532-6f06e96cb6d7"
      },
      "execution_count": null,
      "outputs": [
        {
          "output_type": "stream",
          "name": "stdout",
          "text": [
            "Best Parameters :  {'learning_rate': 0.1, 'max_depth': 1, 'n_estimators': 41}\n",
            "Best Stratified Kfold Score : 0.628\n",
            "Tuned Train Set Score : 0.898\n"
          ]
        }
      ]
    },
    {
      "cell_type": "markdown",
      "source": [
        "Not overfitting on training data as much but kfold score is lower than with default preprocessed data. Need to compare f-1 score with previous model to see which generalizes better."
      ],
      "metadata": {
        "id": "33HEneMR2uIQ"
      }
    },
    {
      "cell_type": "markdown",
      "source": [
        "#### Submit to leaderboard - Model #760"
      ],
      "metadata": {
        "id": "ASeKX6x85W4_"
      }
    },
    {
      "cell_type": "code",
      "source": [
        "#Save sklearn model to local ONNX file\n",
        "from aimodelshare.aimsonnx import model_to_onnx\n",
        "\n",
        "from skl2onnx.common.data_types import FloatTensorType\n",
        "\n",
        "feature_count=X_test_new.shape[1] #Get count of preprocessed features\n",
        "initial_type = [('float_input', FloatTensorType([None, feature_count]))]  # Insert correct number of preprocessed features\n",
        "\n",
        "onnx_model = model_to_onnx(gb_newx, framework='sklearn',\n",
        "                          initial_types=initial_type,\n",
        "                          transfer_learning=False,\n",
        "                          deep_learning=False)\n",
        "\n",
        "with open(\"gb_newx.onnx\", \"wb\") as f:\n",
        "    f.write(onnx_model.SerializeToString())\n",
        "\n",
        "#-- Generate predicted values \n",
        "prediction_labels = gb_newx.predict(X_test_new)\n",
        "\n",
        "# Submit model to Competition Leaderboard\n",
        "mycompetition.submit_model(model_filepath = \"gb_newx.onnx\",\n",
        "                                 preprocessor_filepath=\"preprocessor.zip\",\n",
        "                                 prediction_submission=prediction_labels, \n",
        "                                  custom_metadata = {'team' : '2'})"
      ],
      "metadata": {
        "colab": {
          "base_uri": "https://localhost:8080/"
        },
        "id": "i9cmgf875Y7G",
        "outputId": "048a5b52-214a-4a6d-9f31-614891ed8fed"
      },
      "execution_count": null,
      "outputs": [
        {
          "output_type": "stream",
          "name": "stdout",
          "text": [
            "Insert search tags to help users find your model (optional): \n",
            "Provide any useful notes about your model (optional): \n",
            "\n",
            "Your model has been submitted as model version 760\n",
            "\n",
            "To submit code used to create this model or to view current leaderboard navigate to Model Playground: \n",
            "\n",
            " https://www.modelshare.org/detail/model:3164\n"
          ]
        }
      ]
    },
    {
      "cell_type": "markdown",
      "source": [
        "### Further tuning for SFM X_Train data - Model #752"
      ],
      "metadata": {
        "id": "1B9Q-3qG2UJk"
      }
    },
    {
      "cell_type": "code",
      "source": [
        "from sklearn.ensemble import GradientBoostingClassifier\n",
        "\n",
        "gb_param = {\"n_estimators\" : np.arange(35, 50, 5), 'max_depth' : np.arange(1, 5, 1), 'learning_rate' : np.arange(0.1, 1, 0.1)}\n",
        "\n",
        "from sklearn.model_selection import StratifiedKFold\n",
        "skfold = StratifiedKFold(n_splits = 10, shuffle = True, random_state = 60)\n",
        "\n",
        "gb_newx1 = GridSearchCV(GradientBoostingClassifier(random_state = 30), param_grid = gb_param, cv=skfold)\n",
        "gb_newx1.fit(X_train_new, y_train_labels)"
      ],
      "metadata": {
        "colab": {
          "base_uri": "https://localhost:8080/"
        },
        "id": "yBZTZgzb24Gb",
        "outputId": "89988b40-e1e2-4fb3-e859-cab674dd1633"
      },
      "execution_count": null,
      "outputs": [
        {
          "output_type": "execute_result",
          "data": {
            "text/plain": [
              "GridSearchCV(cv=StratifiedKFold(n_splits=10, random_state=60, shuffle=True),\n",
              "             estimator=GradientBoostingClassifier(random_state=30),\n",
              "             param_grid={'learning_rate': array([0.1, 0.2, 0.3, 0.4, 0.5, 0.6, 0.7, 0.8, 0.9]),\n",
              "                         'max_depth': array([1, 2, 3, 4]),\n",
              "                         'n_estimators': array([35, 40, 45])})"
            ]
          },
          "metadata": {},
          "execution_count": 107
        }
      ]
    },
    {
      "cell_type": "code",
      "source": [
        "#metrics\n",
        "print(f'Best Parameters :  {gb_newx1.best_params_}')\n",
        "print(f'Best Stratified Kfold Score : {gb_newx1.best_score_.round(3)}')\n",
        "print(f'Tuned Train Set Score : {gb_newx1.score(X_train_new, y_train_labels).round(3)}')"
      ],
      "metadata": {
        "colab": {
          "base_uri": "https://localhost:8080/"
        },
        "id": "Z8-J_ABH0TqL",
        "outputId": "da15c3d7-f980-4750-cf17-e459602f1db5"
      },
      "execution_count": null,
      "outputs": [
        {
          "output_type": "stream",
          "name": "stdout",
          "text": [
            "Best Parameters :  {'learning_rate': 0.1, 'max_depth': 1, 'n_estimators': 40}\n",
            "Best Stratified Kfold Score : 0.628\n",
            "Tuned Train Set Score : 0.886\n"
          ]
        }
      ]
    },
    {
      "cell_type": "markdown",
      "source": [
        "Lower kfold score than previous model #736 with default x_train data but not overfitting on the model. Compare f-1 scores to see how models generalize on train data. "
      ],
      "metadata": {
        "id": "rhtv7i0_2Xq6"
      }
    },
    {
      "cell_type": "markdown",
      "source": [
        "#### Submit to leaderboard - Model #752"
      ],
      "metadata": {
        "id": "JZp5hGlv0Z4M"
      }
    },
    {
      "cell_type": "code",
      "source": [
        "#Save sklearn model to local ONNX file\n",
        "from aimodelshare.aimsonnx import model_to_onnx\n",
        "\n",
        "from skl2onnx.common.data_types import FloatTensorType\n",
        "\n",
        "feature_count=X_test_new.shape[1] #Get count of preprocessed features\n",
        "initial_type = [('float_input', FloatTensorType([None, feature_count]))]  # Insert correct number of preprocessed features\n",
        "\n",
        "onnx_model = model_to_onnx(gb_newx1, framework='sklearn',\n",
        "                          initial_types=initial_type,\n",
        "                          transfer_learning=False,\n",
        "                          deep_learning=False)\n",
        "\n",
        "with open(\"gb_newx1.onnx\", \"wb\") as f:\n",
        "    f.write(onnx_model.SerializeToString())\n",
        "\n",
        "#-- Generate predicted values \n",
        "prediction_labels = gb_newx1.predict(X_test_new)\n",
        "\n",
        "# Submit model to Competition Leaderboard\n",
        "mycompetition.submit_model(model_filepath = \"gb_newx1.onnx\",\n",
        "                                 preprocessor_filepath=\"preprocessor.zip\",\n",
        "                                 prediction_submission=prediction_labels, \n",
        "                                  custom_metadata = {'team' : '2'})"
      ],
      "metadata": {
        "colab": {
          "base_uri": "https://localhost:8080/"
        },
        "id": "Ck-9SMt20ZXT",
        "outputId": "6d4b10bf-4515-4d0a-ea73-4a6575c7a742"
      },
      "execution_count": null,
      "outputs": [
        {
          "output_type": "stream",
          "name": "stdout",
          "text": [
            "Insert search tags to help users find your model (optional): \n",
            "Provide any useful notes about your model (optional): \n",
            "\n",
            "Your model has been submitted as model version 752\n",
            "\n",
            "To submit code used to create this model or to view current leaderboard navigate to Model Playground: \n",
            "\n",
            " https://www.modelshare.org/detail/model:3164\n"
          ]
        }
      ]
    },
    {
      "cell_type": "markdown",
      "source": [
        "### Compare Gradient Boosting Classifer Models "
      ],
      "metadata": {
        "id": "JaGqWrME0GUt"
      }
    },
    {
      "cell_type": "code",
      "source": [
        "data = mycompetition.get_leaderboard()\n",
        "compar = data[[\"version\", \"accuracy\", \"f1_score\", \"precision\", \"recall\", \"model_type\"]]\n",
        "print(compar[compar[\"version\"].isin([736, 752, 760])])"
      ],
      "metadata": {
        "colab": {
          "base_uri": "https://localhost:8080/"
        },
        "id": "uknbHftT0I5_",
        "outputId": "64ba2516-02f4-4f37-be8f-f48e52b50995"
      },
      "execution_count": null,
      "outputs": [
        {
          "output_type": "stream",
          "name": "stdout",
          "text": [
            "     version  accuracy  f1_score  precision    recall  \\\n",
            "388      752  0.411765  0.411653   0.607912  0.415714   \n",
            "474      736  0.411765  0.415714   0.535007  0.404286   \n",
            "491      760  0.411765  0.406994   0.543810  0.415714   \n",
            "\n",
            "                     model_type  \n",
            "388  GradientBoostingClassifier  \n",
            "474  GradientBoostingClassifier  \n",
            "491  GradientBoostingClassifier  \n"
          ]
        }
      ]
    },
    {
      "cell_type": "markdown",
      "source": [
        "Accuracy scores of models are identical, but #736 has a slightly higher f-1 score. Marginal difference but choose #736 (default x_train) over #752. Weakest model is #760 - the intiial SFM x_train data model, as anticipated from kfold and train set scores."
      ],
      "metadata": {
        "id": "Ta2ZSoaU3Urm"
      }
    },
    {
      "cell_type": "markdown",
      "source": [
        "## Model 2 - SVC w/ balanced class weights"
      ],
      "metadata": {
        "id": "N3OrtDT8udQM"
      }
    },
    {
      "cell_type": "markdown",
      "source": [
        "### SVC w/ default x_train and balanced data - Model #761"
      ],
      "metadata": {
        "id": "3qOmLfCgtrVw"
      }
    },
    {
      "cell_type": "code",
      "source": [
        "#balanced data\n",
        "from sklearn.svm import SVC\n",
        "\n",
        "svc_grid2 = { 'C' : np.arange(1, 3, 0.1), 'gamma' : np.arange(0.01, 0.2, 0.02)}\n",
        "\n",
        "from sklearn.model_selection import StratifiedKFold\n",
        "skfold = StratifiedKFold(n_splits = 10, shuffle = True, random_state = 60)\n",
        "\n",
        "from sklearn.model_selection import GridSearchCV\n",
        "svc_modelb = GridSearchCV(SVC(kernel = 'rbf', class_weight = 'balanced'), param_grid = svc_grid2, cv = skfold)\n",
        "svc_modelb.fit(preprocessor(X_train), y_train_labels)\n",
        "\n",
        "#metrics\n",
        "print(f'Best Parameters :  {svc_modelb.best_params_}')\n",
        "print(f'Best Stratified Kfold Score : {svc_modelb.best_score_.round(3)}')\n",
        "print(f'Tuned Train Set Score : {svc_modelb.score(preprocessor(X_train), y_train_labels).round(3)}')"
      ],
      "metadata": {
        "colab": {
          "base_uri": "https://localhost:8080/"
        },
        "id": "22EEkNyz7CbU",
        "outputId": "43259998-b1a8-4aae-fde0-12bc9e11fd9a"
      },
      "execution_count": null,
      "outputs": [
        {
          "output_type": "stream",
          "name": "stdout",
          "text": [
            "Best Parameters :  {'C': 1.6000000000000005, 'gamma': 0.18999999999999997}\n",
            "Best Stratified Kfold Score : 0.706\n",
            "Tuned Train Set Score : 0.898\n"
          ]
        }
      ]
    },
    {
      "cell_type": "code",
      "source": [
        "print(\"Metrics for unbalanced SVC with default X_train data - Model #702\")\n",
        "print(f'Best Parameters :  {svc_model.best_params_}')\n",
        "print(f'Best Stratified Kfold Score : {svc_model.best_score_.round(3)}')\n",
        "print(f'Tuned Train Set Score : {svc_model.score(preprocessor(X_train), y_train_labels).round(3)}')"
      ],
      "metadata": {
        "colab": {
          "base_uri": "https://localhost:8080/"
        },
        "id": "67-0KvEb6oes",
        "outputId": "326acafd-bf94-44fd-cc32-bd404d18d82f"
      },
      "execution_count": null,
      "outputs": [
        {
          "output_type": "stream",
          "name": "stdout",
          "text": [
            "Metrics for unbalanced SVC with default X_train data\n",
            "Best Parameters :  {'C': 2.200000000000001, 'gamma': 0.10999999999999997}\n",
            "Best Stratified Kfold Score : 0.706\n",
            "Tuned Train Set Score : 0.886\n"
          ]
        }
      ]
    },
    {
      "cell_type": "markdown",
      "source": [
        "Balanced class_weights has not improved performance previously. But tuned train set score has increased from 0.886, increasing risk of overfitting without a gain in performance. This model is weaker than the original SVC model with the default x_train data."
      ],
      "metadata": {
        "id": "evFZUE_4uzmg"
      }
    },
    {
      "cell_type": "markdown",
      "source": [
        "#### Submit to leaderboard - Model #761"
      ],
      "metadata": {
        "id": "Srp-IUkX6Apw"
      }
    },
    {
      "cell_type": "code",
      "source": [
        "#Save sklearn model to local ONNX file\n",
        "from aimodelshare.aimsonnx import model_to_onnx\n",
        "\n",
        "from skl2onnx.common.data_types import FloatTensorType\n",
        "\n",
        "feature_count= preprocessor(X_test).shape[1] #Get count of preprocessed features\n",
        "initial_type = [('float_input', FloatTensorType([None, feature_count]))]  # Insert correct number of preprocessed features\n",
        "\n",
        "onnx_model = model_to_onnx(svc_modelb, framework='sklearn',\n",
        "                          initial_types=initial_type,\n",
        "                          transfer_learning=False,\n",
        "                          deep_learning=False)\n",
        "\n",
        "with open(\"svc_modelb.onnx\", \"wb\") as f:\n",
        "    f.write(onnx_model.SerializeToString())\n",
        "\n",
        "#-- Generate predicted values \n",
        "prediction_labels = svc_modelb.predict(preprocessor(X_test))\n",
        "\n",
        "# Submit model to Competition Leaderboard\n",
        "mycompetition.submit_model(model_filepath = \"svc_modelb.onnx\",\n",
        "                                 preprocessor_filepath=\"preprocessor.zip\",\n",
        "                                 prediction_submission=prediction_labels, \n",
        "                                  custom_metadata = {'team' : '2'})"
      ],
      "metadata": {
        "colab": {
          "base_uri": "https://localhost:8080/"
        },
        "id": "xaWfNQhb6CWS",
        "outputId": "cf16e923-9175-4b74-ce79-46a647aecf38"
      },
      "execution_count": null,
      "outputs": [
        {
          "output_type": "stream",
          "name": "stdout",
          "text": [
            "Insert search tags to help users find your model (optional): \n",
            "Provide any useful notes about your model (optional): \n",
            "\n",
            "Your model has been submitted as model version 761\n",
            "\n",
            "To submit code used to create this model or to view current leaderboard navigate to Model Playground: \n",
            "\n",
            " https://www.modelshare.org/detail/model:3164\n"
          ]
        }
      ]
    },
    {
      "cell_type": "markdown",
      "source": [
        "### Best Model SVC model - w/ x_train_new, class_weights balanced - Model #764"
      ],
      "metadata": {
        "id": "4_EXYSQ3amSz"
      }
    },
    {
      "cell_type": "code",
      "source": [
        "### X_new data + balanced classes\n",
        "from sklearn.svm import SVC\n",
        "\n",
        "svc_grid3 = { 'C' : np.arange(2, 4, 0.1), 'gamma' : np.arange(0.01, 0.2, 0.01)}\n",
        "\n",
        "from sklearn.model_selection import StratifiedKFold\n",
        "skfold = StratifiedKFold(n_splits = 10, shuffle = True, random_state = 60)\n",
        "\n",
        "from sklearn.model_selection import GridSearchCV\n",
        "svc_model_xnew1 = GridSearchCV(SVC(kernel = 'rbf', class_weight = 'balanced', random_state = 30), param_grid = svc_grid3, cv = skfold)\n",
        "svc_model_xnew1.fit(X_train_new, y_train_labels)\n",
        "\n",
        "#metrics\n",
        "print(f'Best Parameters :  {svc_model_xnew1.best_params_}')\n",
        "print(f'Best Stratified Kfold Score : {svc_model_xnew1.best_score_.round(3)}')\n",
        "print(f'Tuned Train Set Score : {svc_model_xnew1.score(X_train_new, y_train_labels).round(3)}')"
      ],
      "metadata": {
        "colab": {
          "base_uri": "https://localhost:8080/"
        },
        "id": "Dkm1Crmm6c3W",
        "outputId": "c6be8a04-1058-4399-f11b-a38052f39df8"
      },
      "execution_count": null,
      "outputs": [
        {
          "output_type": "stream",
          "name": "stdout",
          "text": [
            "Best Parameters :  {'C': 2.0, 'gamma': 0.02}\n",
            "Best Stratified Kfold Score : 0.704\n",
            "Tuned Train Set Score : 0.773\n"
          ]
        }
      ]
    },
    {
      "cell_type": "code",
      "source": [
        "print(\"Metrics for unbalanced SVC with default X_train data - Model #702\")\n",
        "print(f'Best Parameters :  {svc_model.best_params_}')\n",
        "print(f'Best Stratified Kfold Score : {svc_model.best_score_.round(3)}')\n",
        "print(f'Tuned Train Set Score : {svc_model.score(preprocessor(X_train), y_train_labels).round(3)}')"
      ],
      "metadata": {
        "colab": {
          "base_uri": "https://localhost:8080/"
        },
        "id": "wa5M9hsp7Rrd",
        "outputId": "f463a7e1-958e-4db5-f307-0525009af6bb"
      },
      "execution_count": null,
      "outputs": [
        {
          "output_type": "stream",
          "name": "stdout",
          "text": [
            "Metrics for unbalanced SVC with default X_train data - Model #702\n",
            "Best Parameters :  {'C': 2.200000000000001, 'gamma': 0.10999999999999997}\n",
            "Best Stratified Kfold Score : 0.706\n",
            "Tuned Train Set Score : 0.886\n"
          ]
        }
      ]
    },
    {
      "cell_type": "markdown",
      "source": [
        "Kfold is 0.704 vs. 0.706 for model #702. Balancing class weights has not improved predictive accuracy. However, tuned train set score is lower for this model compared to #702. Compare f-1 score for more detailed understanding of differences between the models. \n",
        "\n"
      ],
      "metadata": {
        "id": "HNZaWeE57WX4"
      }
    },
    {
      "cell_type": "markdown",
      "source": [
        "#### Submit to leaderboard - Model #764"
      ],
      "metadata": {
        "id": "d4Q0KwWc7ME7"
      }
    },
    {
      "cell_type": "code",
      "source": [
        "#Save sklearn model to local ONNX file\n",
        "from aimodelshare.aimsonnx import model_to_onnx\n",
        "\n",
        "from skl2onnx.common.data_types import FloatTensorType\n",
        "\n",
        "feature_count= X_test_new.shape[1] #Get count of preprocessed features\n",
        "initial_type = [('float_input', FloatTensorType([None, feature_count]))]  # Insert correct number of preprocessed features\n",
        "\n",
        "onnx_model = model_to_onnx(svc_model_xnew1, framework='sklearn',\n",
        "                          initial_types=initial_type,\n",
        "                          transfer_learning=False,\n",
        "                          deep_learning=False)\n",
        "\n",
        "with open(\"svc_model_xnew1.onnx\", \"wb\") as f:\n",
        "    f.write(onnx_model.SerializeToString())\n",
        "\n",
        "#-- Generate predicted values \n",
        "prediction_labels = svc_model_xnew1.predict(X_test_new)\n",
        "\n",
        "# Submit model to Competition Leaderboard\n",
        "mycompetition.submit_model(model_filepath = \"svc_model_xnew1.onnx\",\n",
        "                                 preprocessor_filepath=\"preprocessor.zip\",\n",
        "                                 prediction_submission=prediction_labels, \n",
        "                                  custom_metadata = {'team' : '2'})"
      ],
      "metadata": {
        "colab": {
          "base_uri": "https://localhost:8080/"
        },
        "id": "DW0e93_j7DrR",
        "outputId": "a6536593-79ab-4845-dfd6-bc26464abb2a"
      },
      "execution_count": null,
      "outputs": [
        {
          "output_type": "stream",
          "name": "stdout",
          "text": [
            "Insert search tags to help users find your model (optional): \n",
            "Provide any useful notes about your model (optional): \n",
            "\n",
            "Your model has been submitted as model version 764\n",
            "\n",
            "To submit code used to create this model or to view current leaderboard navigate to Model Playground: \n",
            "\n",
            " https://www.modelshare.org/detail/model:3164\n"
          ]
        }
      ]
    },
    {
      "cell_type": "markdown",
      "source": [
        "### Compare SVC models Test Set Scores"
      ],
      "metadata": {
        "id": "pWjj9eQH5z2g"
      }
    },
    {
      "cell_type": "code",
      "source": [
        "data = mycompetition.get_leaderboard()\n",
        "compar = data[[\"version\", \"accuracy\", \"f1_score\", \"precision\", \"recall\", \"model_type\"]]\n",
        "print(compar[compar[\"version\"].isin([702, 761, 764])])"
      ],
      "metadata": {
        "colab": {
          "base_uri": "https://localhost:8080/"
        },
        "id": "Qw4HlLA950Vp",
        "outputId": "fdaad051-de87-42ce-aa96-4e6da81d4613"
      },
      "execution_count": null,
      "outputs": [
        {
          "output_type": "stream",
          "name": "stdout",
          "text": [
            "     version  accuracy  f1_score  precision    recall model_type\n",
            "191      761  0.500000  0.499394   0.569487  0.512857        SVC\n",
            "199      702  0.500000  0.499394   0.569487  0.512857        SVC\n",
            "356      764  0.470588  0.459343   0.525983  0.495714        SVC\n"
          ]
        }
      ]
    },
    {
      "cell_type": "markdown",
      "source": [
        "702 (no balanced class weights and defualt preprocessed data) is the best model from Q#3 and remains the strongest model. Model #761 and #702 have identical performance. Since k-fold score is higher for 702, this remains our best model."
      ],
      "metadata": {
        "id": "PWb8j0CJ6-d_"
      }
    },
    {
      "cell_type": "markdown",
      "source": [
        "## Model 3 - Logistic Regression with balanced class weights"
      ],
      "metadata": {
        "id": "jl9Q68WKwwKk"
      }
    },
    {
      "cell_type": "markdown",
      "source": [
        "#### Logistic Regression - default x_train data with balanced class weights - model #765"
      ],
      "metadata": {
        "id": "yLX2ARVYL0w3"
      }
    },
    {
      "cell_type": "code",
      "source": [
        "from sklearn.linear_model import LogisticRegression\n",
        "\n",
        "log_grid = {'C' : np.arange(0.1, 2, 0.1), 'penalty' : (\"none\", \"l1\", \"l2\", \"elasticnet\"), 'solver' : ('liblinear', 'lbfgs', 'saga')}\n",
        "\n",
        "from sklearn.model_selection import StratifiedKFold\n",
        "skfold = StratifiedKFold(n_splits = 10, shuffle = True, random_state = 60)\n",
        "\n",
        "from sklearn.model_selection import GridSearchCV\n",
        "log_bal_model = GridSearchCV(LogisticRegression(max_iter = 10000, class_weight = 'balanced'), param_grid = log_grid, cv = skfold)\n",
        "log_bal_model.fit(preprocessor(X_train), y_train_labels)"
      ],
      "metadata": {
        "id": "vb_-3Nl6LuBM"
      },
      "execution_count": null,
      "outputs": []
    },
    {
      "cell_type": "code",
      "source": [
        "#metrics\n",
        "print(\"New Logistic Regression w/ default X_train data + balanced class weights\")\n",
        "print(f'Best Parameters :  {log_bal_model.best_params_}')\n",
        "print(f'Best Stratified Kfold Score : {log_bal_model.best_score_.round(3)}')\n",
        "print(f'Tuned Train Set Score : {log_bal_model.score(preprocessor(X_train), y_train_labels).round(3)}')"
      ],
      "metadata": {
        "colab": {
          "base_uri": "https://localhost:8080/"
        },
        "id": "CiNazU-wNdEY",
        "outputId": "57121f0d-2353-446a-9111-e02d504a7aef"
      },
      "execution_count": null,
      "outputs": [
        {
          "output_type": "stream",
          "name": "stdout",
          "text": [
            "Logistic Regression w/ default X_train data + balanced class weights\n",
            "Best Parameters :  {'C': 0.6, 'penalty': 'l2', 'solver': 'lbfgs'}\n",
            "Best Stratified Kfold Score : 0.682\n",
            "Tuned Train Set Score : 0.807\n"
          ]
        }
      ]
    },
    {
      "cell_type": "markdown",
      "source": [
        "L2 model is still best, with a roughly a much similar C value (0.6 vs. 0.5) for the previous best performing Logistic Regression Model (below). Compared to unbalanced class weight model the kfold score has increased by a relatively large margin. The tuned train set score is identical, so it does not show evidence of overfitting. This looks to be a stronger model than the previously submitted best logreg model (metrics below for reference)."
      ],
      "metadata": {
        "id": "KYiErZ-kKeJe"
      }
    },
    {
      "cell_type": "code",
      "source": [
        "print(\"Previous Best Logistic Regression - w/ default X_train data - Model 780\")\n",
        "print(f'Best Parameters :  {log_model.best_params_}')\n",
        "print(f'Best Stratified Kfold Score : {log_model.best_score_.round(3)}')\n",
        "print(f'Tuned Train Set Score : {log_model.score(preprocessor(X_train), y_train_labels).round(3)}')"
      ],
      "metadata": {
        "colab": {
          "base_uri": "https://localhost:8080/"
        },
        "id": "4CjjRPoL8pmC",
        "outputId": "ea7e82bb-77f3-479d-e852-10c2d08ffb8f"
      },
      "execution_count": null,
      "outputs": [
        {
          "output_type": "stream",
          "name": "stdout",
          "text": [
            "Previous Best Logistic Regression - w/ default X_train data - Model 780\n",
            "Best Parameters :  {'C': 0.5, 'penalty': 'l2', 'solver': 'lbfgs'}\n",
            "Best Stratified Kfold Score : 0.647\n",
            "Tuned Train Set Score : 0.807\n"
          ]
        }
      ]
    },
    {
      "cell_type": "markdown",
      "source": [
        "#### Submit to leaderboard - Model #765"
      ],
      "metadata": {
        "id": "C-FJ2jjY8x6m"
      }
    },
    {
      "cell_type": "code",
      "source": [
        "#Save sklearn model to local ONNX file\n",
        "from aimodelshare.aimsonnx import model_to_onnx\n",
        "\n",
        "from skl2onnx.common.data_types import FloatTensorType\n",
        "\n",
        "feature_count= preprocessor(X_test).shape[1] #Get count of preprocessed features\n",
        "initial_type = [('float_input', FloatTensorType([None, feature_count]))]  # Insert correct number of preprocessed features\n",
        "\n",
        "onnx_model = model_to_onnx(log_bal_model, framework='sklearn',\n",
        "                          initial_types=initial_type,\n",
        "                          transfer_learning=False,\n",
        "                          deep_learning=False)\n",
        "\n",
        "with open(\"log_bal_model.onnx\", \"wb\") as f:\n",
        "    f.write(onnx_model.SerializeToString())\n",
        "\n",
        "#-- Generate predicted values \n",
        "prediction_labels = log_bal_model.predict(preprocessor(X_test))\n",
        "\n",
        "# Submit model to Competition Leaderboard\n",
        "mycompetition.submit_model(model_filepath = \"log_bal_model.onnx\",\n",
        "                                 preprocessor_filepath=\"preprocessor.zip\",\n",
        "                                 prediction_submission=prediction_labels, \n",
        "                                  custom_metadata = {'team' : '2'})"
      ],
      "metadata": {
        "colab": {
          "base_uri": "https://localhost:8080/"
        },
        "id": "JdjiZwMA8767",
        "outputId": "efe4bad4-89db-4fa3-b98c-bb256b20730f"
      },
      "execution_count": null,
      "outputs": [
        {
          "output_type": "stream",
          "name": "stdout",
          "text": [
            "Insert search tags to help users find your model (optional): \n",
            "Provide any useful notes about your model (optional): \n",
            "\n",
            "Your model has been submitted as model version 765\n",
            "\n",
            "To submit code used to create this model or to view current leaderboard navigate to Model Playground: \n",
            "\n",
            " https://www.modelshare.org/detail/model:3164\n"
          ]
        }
      ]
    },
    {
      "cell_type": "markdown",
      "source": [
        "### Logsitic Regression with x_train new data and balanced class weights - Model #770"
      ],
      "metadata": {
        "id": "GWr_-_ZqxsLf"
      }
    },
    {
      "cell_type": "code",
      "source": [
        "from sklearn.linear_model import LogisticRegression\n",
        "\n",
        "log_grid = {'C' : np.arange(0.1, 2, 0.1), 'penalty' : (\"none\", \"l1\", \"l2\", \"elasticnet\"), 'solver' : ('liblinear', 'lbfgs', 'saga')}\n",
        "\n",
        "from sklearn.model_selection import StratifiedKFold\n",
        "skfold = StratifiedKFold(n_splits = 10, shuffle = True, random_state = 60)\n",
        "\n",
        "from sklearn.model_selection import GridSearchCV\n",
        "log_model_newxbal = GridSearchCV(LogisticRegression(max_iter = 10000, class_weight = 'balanced'), param_grid = log_grid, cv = skfold)\n",
        "log_model_newxbal.fit(X_train_new, y_train_labels)"
      ],
      "metadata": {
        "id": "b-6UbzPwxvxd"
      },
      "execution_count": null,
      "outputs": []
    },
    {
      "cell_type": "code",
      "source": [
        "#model metrics\n",
        "print(\"New New Logistic Regression w/ SFM X_train data + balanced class weights\")\n",
        "print(f'Best Parameters :  {log_model_newxbal.best_params_}')\n",
        "print(f'Best Stratified Kfold Score : {log_model_newxbal.best_score_.round(3)}')\n",
        "print(f'Tuned Train Set Score : {log_model_newxbal.score(X_train_new, y_train_labels).round(3)}')"
      ],
      "metadata": {
        "colab": {
          "base_uri": "https://localhost:8080/"
        },
        "id": "c1TIpqVh_2yV",
        "outputId": "b30faf9e-eb26-4ab9-d114-74ecb4115ec2"
      },
      "execution_count": null,
      "outputs": [
        {
          "output_type": "stream",
          "name": "stdout",
          "text": [
            "New New Logistic Regression w/ SFM X_train data + balanced class weights\n",
            "Best Parameters :  {'C': 0.2, 'penalty': 'l2', 'solver': 'lbfgs'}\n",
            "Best Stratified Kfold Score : 0.669\n",
            "Tuned Train Set Score : 0.773\n"
          ]
        }
      ]
    },
    {
      "cell_type": "markdown",
      "source": [
        "'#770 Vs Model #765 (Balanced Class Weight + Default X_train)\n",
        "\n",
        "At first glance, this appears to be a stronger model than the above model, with a skfold score of 0.669 vs. 0.658. The tuned train set score is also lower than the pervious model (0.773 vs 0.807) - will need to inspect f1 score to see whether this is impeding or benefiting gereneralization.\n",
        "\n",
        "In terms of parameters, using the SFM automatic feature selection X_train data has also tuned logistic regression to be l2 with the solver lbfgs. However, this model has a lower C value that the above balanced class weight model with default x_train data - now with a C value of 0.2 vs. 0.6. "
      ],
      "metadata": {
        "id": "6Q5uZvADUYvz"
      }
    },
    {
      "cell_type": "markdown",
      "source": [
        "Vs. Model #720 - Best Performing LogReg Model from Q3 (below)\n",
        "\n",
        "The kfold score in this new model is greater than that of #720, at 0.669 vs. 0.647. The tuned train set score for this model is much lower than #780, which may indicate that this model may not generalize well.\n",
        "\n",
        "Both models are tuned to have an l2 penalty, and small C values. Albeit #770 has a smaller C value at 0.2 vs. #780 (0.5)"
      ],
      "metadata": {
        "id": "CG2Q1EVlARUf"
      }
    },
    {
      "cell_type": "code",
      "source": [
        "print(\"Previous Best Logistic Regression - w/ default X_train data - Model 780\")\n",
        "print(f'Best Parameters :  {log_model.best_params_}')\n",
        "print(f'Best Stratified Kfold Score : {log_model.best_score_.round(3)}')\n",
        "print(f'Tuned Train Set Score : {log_model.score(preprocessor(X_train), y_train_labels).round(3)}')"
      ],
      "metadata": {
        "colab": {
          "base_uri": "https://localhost:8080/"
        },
        "id": "ctOP5pbR-KDa",
        "outputId": "98cfc5f0-51e0-402d-be49-cd8e7a7e0061"
      },
      "execution_count": null,
      "outputs": [
        {
          "output_type": "stream",
          "name": "stdout",
          "text": [
            "Previous Best Logistic Regression - w/ default X_train data - Model 780\n",
            "Best Parameters :  {'C': 0.5, 'penalty': 'l2', 'solver': 'lbfgs'}\n",
            "Best Stratified Kfold Score : 0.647\n",
            "Tuned Train Set Score : 0.807\n"
          ]
        }
      ]
    },
    {
      "cell_type": "markdown",
      "source": [
        "#### Submit to leaderboard - Model #770"
      ],
      "metadata": {
        "id": "1iHTGACY-W6M"
      }
    },
    {
      "cell_type": "code",
      "source": [
        "#Save sklearn model to local ONNX file\n",
        "from aimodelshare.aimsonnx import model_to_onnx\n",
        "\n",
        "from skl2onnx.common.data_types import FloatTensorType\n",
        "\n",
        "feature_count= X_test_new.shape[1] #Get count of preprocessed features\n",
        "initial_type = [('float_input', FloatTensorType([None, feature_count]))]  # Insert correct number of preprocessed features\n",
        "\n",
        "onnx_model = model_to_onnx(log_model_newxbal, framework='sklearn',\n",
        "                          initial_types=initial_type,\n",
        "                          transfer_learning=False,\n",
        "                          deep_learning=False)\n",
        "\n",
        "with open(\"log_model_newxbal.onnx\", \"wb\") as f:\n",
        "    f.write(onnx_model.SerializeToString())\n",
        "\n",
        "#-- Generate predicted values \n",
        "prediction_labels = log_model_newxbal.predict(X_test_new)\n",
        "\n",
        "# Submit model to Competition Leaderboard\n",
        "mycompetition.submit_model(model_filepath = \"log_model_newxbal.onnx\",\n",
        "                                 preprocessor_filepath=\"preprocessor.zip\",\n",
        "                                 prediction_submission=prediction_labels, \n",
        "                                  custom_metadata = {'team' : '2'})"
      ],
      "metadata": {
        "colab": {
          "base_uri": "https://localhost:8080/"
        },
        "id": "tdtOJARQ-ayg",
        "outputId": "cc2ea48b-c1c9-4472-c089-e3c47af41be0"
      },
      "execution_count": null,
      "outputs": [
        {
          "output_type": "stream",
          "name": "stdout",
          "text": [
            "Insert search tags to help users find your model (optional): \n",
            "Provide any useful notes about your model (optional): \n",
            "\n",
            "Your model has been submitted as model version 770\n",
            "\n",
            "To submit code used to create this model or to view current leaderboard navigate to Model Playground: \n",
            "\n",
            " https://www.modelshare.org/detail/model:3164\n"
          ]
        }
      ]
    },
    {
      "cell_type": "markdown",
      "source": [
        "### Compare Test Set Scores"
      ],
      "metadata": {
        "id": "7rCKbGJk-AE4"
      }
    },
    {
      "cell_type": "code",
      "source": [
        "data = mycompetition.get_leaderboard()\n",
        "compar = data[[\"version\", \"accuracy\", \"f1_score\", \"precision\", \"recall\", \"model_type\"]]\n",
        "print(compar[compar[\"version\"].isin([780, 765, 770])])"
      ],
      "metadata": {
        "colab": {
          "base_uri": "https://localhost:8080/"
        },
        "id": "rYlXC2Ez98Bt",
        "outputId": "54301ebf-b3a3-420f-8e37-a2aa6c45d732"
      },
      "execution_count": null,
      "outputs": [
        {
          "output_type": "stream",
          "name": "stdout",
          "text": [
            "     version  accuracy  f1_score  precision    recall          model_type\n",
            "183      765  0.500000  0.496332   0.575476  0.524286  LogisticRegression\n",
            "188      770  0.500000  0.495707   0.575983  0.524286  LogisticRegression\n",
            "435      780  0.441176  0.427312   0.523810  0.467143  LogisticRegression\n"
          ]
        }
      ]
    },
    {
      "cell_type": "markdown",
      "source": [
        "From the test set scoring we can see that model #765 is stronger than the other two models. #780 (original best performing logreg model) is the weakest of the three by a significant margin.\n",
        "\n",
        "Even though Model #770 has a higher kfold score than #765, the lower test train score indicates that the model is not learning from the data enough and this is impeding generalizations on new data. Model #765 (balanced class weights and default X_train data) is the strongest based on f1 score."
      ],
      "metadata": {
        "id": "JWuBeDvlBwxP"
      }
    },
    {
      "cell_type": "markdown",
      "source": [
        "## Comparing the models performance + discussion"
      ],
      "metadata": {
        "id": "xunhAugP3Voh"
      }
    },
    {
      "cell_type": "code",
      "source": [
        "print(\"Previous Best Performer, and Current SVC Top Performer\")\n",
        "print(\"SVC with default X_train data - Model #702\")\n",
        "print(f'Best Parameters :  {svc_model.best_params_}')\n",
        "print(f'Best Stratified Kfold Score : {svc_model.best_score_.round(3)}')\n",
        "print(f'Tuned Train Set Score : {svc_model.score(preprocessor(X_train), y_train_labels).round(3)}')\n",
        "\n",
        "print()\n",
        "print()\n",
        "\n",
        "print(\"Gradient Boosting Classifer w/ default X_train_data - Model #736\")\n",
        "print(f'Best Parameters :  {gb.best_params_}')\n",
        "print(f'Best Stratified Kfold Score : {gb.best_score_.round(3)}')\n",
        "print(f'Tuned Train Set Score : {gb.score(preprocessor(X_train), y_train_labels).round(3)}')\n",
        "\n",
        "\n",
        "print()\n",
        "print()\n",
        "\n",
        "\n",
        "print(\"Logistic Regression w/ default X_train data + balanced class weights - Model #765\")\n",
        "print(f'Best Parameters :  {log_bal_model.best_params_}')\n",
        "print(f'Best Stratified Kfold Score : {log_bal_model.best_score_.round(3)}')\n",
        "print(f'Tuned Train Set Score : {log_bal_model.score(preprocessor(X_train), y_train_labels).round(3)}')\n",
        "\n",
        "\n",
        "print()\n",
        "print()\n",
        "\n",
        "print(\"Random Forest Classifer Model w default X_train data - Model #701\")\n",
        "print(f'Best Parameters :  {rf_model.best_params_}')\n",
        "print(f'Best Mean Stratified KFold Score : {rf_model.best_score_.round(3)}')\n",
        "print(f'Tuned Train Set Score : {rf_model.score(preprocessor(X_train), y_train_labels).round(3)}')"
      ],
      "metadata": {
        "colab": {
          "base_uri": "https://localhost:8080/"
        },
        "id": "QZsdmnohMBqU",
        "outputId": "6f53698b-bd9b-405c-e01c-8fab1d904c75"
      },
      "execution_count": null,
      "outputs": [
        {
          "output_type": "stream",
          "name": "stdout",
          "text": [
            "Previous Best Performer, and Current SVC Top Performer\n",
            "SVC with default X_train data - Model #702\n",
            "Best Parameters :  {'C': 2.200000000000001, 'gamma': 0.10999999999999997}\n",
            "Best Stratified Kfold Score : 0.706\n",
            "Tuned Train Set Score : 0.886\n",
            "\n",
            "\n",
            "Gradient Boosting Classifer w/ default X_train_data - Model #736\n",
            "Best Parameters :  {'learning_rate': 0.7000000000000001, 'max_depth': 4, 'n_estimators': 81}\n",
            "Best Stratified Kfold Score : 0.651\n",
            "Tuned Train Set Score : 1.0\n",
            "\n",
            "\n",
            "Logistic Regression w/ default X_train data + balanced class weights - Model #765\n",
            "Best Parameters :  {'C': 0.6, 'penalty': 'l2', 'solver': 'lbfgs'}\n",
            "Best Stratified Kfold Score : 0.682\n",
            "Tuned Train Set Score : 0.807\n",
            "\n",
            "\n",
            "Random Forest Classifer Model w default X_train data - Model #701\n",
            "Best Parameters :  {'max_depth': 7, 'max_features': 3, 'n_estimators': 7}\n",
            "Best Mean Stratified KFold Score : 0.658\n",
            "Tuned Train Set Score : 0.909\n"
          ]
        }
      ]
    },
    {
      "cell_type": "markdown",
      "source": [
        "From the skfold scores, the SVC model from Q3 is stil the strongest performer, with a stratified kfold score of 0.706. This model uses the default perprocessing method for X_train data, with unbalanced class weights. The C value is 2.2 and Gamma is 0.11. The train set score indicates that the model is learning well from the train set without overfitting.\n",
        "\n",
        "\n",
        "The SVC model looks to perform much higher than the l2 penalty Logistic Regression, which has the second highest kfold score at 0.682. This model has balanced class weights and uses the default preprocessed train set data. The C value is relatively low at 0.6. This has a lower train set score than SVC, which may indicate that it is not learning enough from the train set to generalize well on new data.\n",
        "\n",
        "Random Forest Classifier is the third strongest model based off the kfold score, at 0.658. This model uses the default preprocessing method for the X_train data, with max_depth = 7, max_features = 3, and n_estimators = 7. In theory, this should not be an overly complex model, however, the tuned train set score shows that the model is overfitting on the training data, so it is unsurprising that it is not generalizing as well as other models. \n",
        "\n",
        "The Gradient Boosting Classifer model is also overfitting, with a train set score of 1.0. This model uses the default preprocessing method for the X_train data and has the tuned parameters of 0.7 for learning rate, max_depth = 4, number of estimators = 41. This is a relatively complex model. The kfold score is the weakest at 0.651,meaning that it is the poorest at generalizing to new data - this is unsurprising given that the model is overfitting. "
      ],
      "metadata": {
        "id": "dC9syeipYBDI"
      }
    },
    {
      "cell_type": "markdown",
      "source": [
        "### Compare Test Set Performance"
      ],
      "metadata": {
        "id": "trhQ8TU14ID1"
      }
    },
    {
      "cell_type": "code",
      "source": [
        "data = mycompetition.get_leaderboard()\n",
        "compar = data[[\"version\", \"accuracy\", \"f1_score\", \"precision\", \"recall\", \"model_type\"]]\n",
        "print(compar[compar[\"version\"].isin([702, 736, 765, 701])])"
      ],
      "metadata": {
        "colab": {
          "base_uri": "https://localhost:8080/"
        },
        "id": "TwF5gECD4K65",
        "outputId": "5bfc79ee-1617-4218-9210-976c8731af22"
      },
      "execution_count": null,
      "outputs": [
        {
          "output_type": "stream",
          "name": "stdout",
          "text": [
            "     version  accuracy  f1_score  precision    recall  \\\n",
            "59       701  0.500000  0.495086   0.633333  0.509286   \n",
            "182      765  0.500000  0.496332   0.575476  0.524286   \n",
            "197      702  0.500000  0.499394   0.569487  0.512857   \n",
            "481      736  0.411765  0.415714   0.535007  0.404286   \n",
            "\n",
            "                     model_type  \n",
            "59       RandomForestClassifier  \n",
            "182          LogisticRegression  \n",
            "197                         SVC  \n",
            "481  GradientBoostingClassifier  \n"
          ]
        }
      ]
    },
    {
      "cell_type": "markdown",
      "source": [
        "Models #701, #765, and #702 have identical acuracy scores at 0.5, but #702 (SVC) pulls ahead in the f1 score, at 0.499. This is the strongest model, the best at generalizing to new data overall."
      ],
      "metadata": {
        "id": "D5QwlzozCcek"
      }
    }
  ]
}